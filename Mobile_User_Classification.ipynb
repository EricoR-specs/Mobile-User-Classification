{
 "cells": [
  {
   "cell_type": "markdown",
   "id": "3e99212f",
   "metadata": {},
   "source": [
    "# 1. Introduction\n",
    "Name : Muhammad Erico Ricardo\n",
    "\n",
    "Backround : Mobile phones are widely utilized for a multitude of purposes, including communication, entertainment, professional activities, and increasingly, education. Despite their utility, frequent and unproductive mobile phone use poses a risk of user addiction. This project seeks to develop a classification system for mobile phone users, enabling individuals to identify their usage category and offering targeted interventions to decrease problematic addiction.\n",
    "\n",
    "In this project i use Mobile Device Usage and User Behavior Dataset from Kaggle :\n",
    "https://www.kaggle.com/datasets/valakhorasani/mobile-device-usage-and-user-behavior-dataset\n",
    "\n",
    "dataset provides a comprehensive analysis of mobile device usage patterns and user behavior classification. It contains 700 samples of user data, including metrics such as app usage time, screen-on time, battery drain, and data consumption. Each entry is categorized into one of five user behavior classes, ranging from light to extreme usage, allowing for insightful analysis and modeling.\n",
    "\n",
    "Key Features:\n",
    "\n",
    "- User ID: Unique identifier for each user.\n",
    "- Device Model: Model of the user's smartphone.\n",
    "- Operating System: The OS of the device (iOS or Android).\n",
    "- App Usage Time: Daily time spent on mobile applications, measured in minutes.\n",
    "- Screen On Time: Average hours per day the screen is active.\n",
    "- Battery Drain: Daily battery consumption in mAh.\n",
    "- Number of Apps Installed: Total apps available on the device.\n",
    "- Data Usage: Daily mobile data consumption in megabytes.\n",
    "- Age: Age of the user.\n",
    "- Gender: Gender of the user (Male or Female).\n",
    "- User Behavior Class: Classification of user behavior based on usage patterns (1 to 5)."
   ]
  },
  {
   "cell_type": "markdown",
   "id": "486d11ca",
   "metadata": {},
   "source": [
    "# 2. Import Libraries"
   ]
  },
  {
   "cell_type": "code",
   "execution_count": 1,
   "id": "01cd9a22",
   "metadata": {},
   "outputs": [],
   "source": [
    "import matplotlib.pyplot as plt\n",
    "import pandas as pd\n",
    "import numpy as np\n",
    "import seaborn as sns\n",
    "\n",
    "\n",
    "from xgboost import XGBClassifier\n",
    "from phik import phik\n",
    "from imblearn.over_sampling import SMOTENC\n",
    "from feature_engine.outliers import Winsorizer as winsorizer\n",
    "from sklearn.model_selection import train_test_split\n",
    "from imblearn.pipeline import Pipeline\n",
    "from sklearn.compose import ColumnTransformer\n",
    "from sklearn.preprocessing import StandardScaler\n",
    "from sklearn.preprocessing import RobustScaler\n",
    "from sklearn.preprocessing import OneHotEncoder\n",
    "from sklearn.preprocessing import OrdinalEncoder\n",
    "from sklearn.model_selection import cross_val_score\n",
    "from sklearn.svm import SVC\n",
    "from sklearn.tree import DecisionTreeClassifier\n",
    "from sklearn.ensemble import RandomForestClassifier\n",
    "from sklearn.neighbors import KNeighborsClassifier\n",
    "from sklearn.naive_bayes import GaussianNB\n",
    "from sklearn.model_selection import StratifiedKFold\n",
    "from sklearn.model_selection import  RandomizedSearchCV\n",
    "from sklearn.metrics import classification_report\n",
    "from sklearn.impute import SimpleImputer\n",
    "\n",
    "#package for export and import and model\n",
    "import pickle\n",
    "import json"
   ]
  },
  {
   "cell_type": "markdown",
   "id": "d65db882",
   "metadata": {},
   "source": [
    "# 3. Data Loading"
   ]
  },
  {
   "cell_type": "code",
   "execution_count": 2,
   "id": "689b5437",
   "metadata": {},
   "outputs": [
    {
     "data": {
      "text/html": [
       "<div>\n",
       "<style scoped>\n",
       "    .dataframe tbody tr th:only-of-type {\n",
       "        vertical-align: middle;\n",
       "    }\n",
       "\n",
       "    .dataframe tbody tr th {\n",
       "        vertical-align: top;\n",
       "    }\n",
       "\n",
       "    .dataframe thead th {\n",
       "        text-align: right;\n",
       "    }\n",
       "</style>\n",
       "<table border=\"1\" class=\"dataframe\">\n",
       "  <thead>\n",
       "    <tr style=\"text-align: right;\">\n",
       "      <th></th>\n",
       "      <th>User ID</th>\n",
       "      <th>Device Model</th>\n",
       "      <th>Operating System</th>\n",
       "      <th>App Usage Time (min/day)</th>\n",
       "      <th>Screen On Time (hours/day)</th>\n",
       "      <th>Battery Drain (mAh/day)</th>\n",
       "      <th>Number of Apps Installed</th>\n",
       "      <th>Data Usage (MB/day)</th>\n",
       "      <th>Age</th>\n",
       "      <th>Gender</th>\n",
       "      <th>User Behavior Class</th>\n",
       "    </tr>\n",
       "  </thead>\n",
       "  <tbody>\n",
       "    <tr>\n",
       "      <th>0</th>\n",
       "      <td>1</td>\n",
       "      <td>Google Pixel 5</td>\n",
       "      <td>Android</td>\n",
       "      <td>393</td>\n",
       "      <td>6.4</td>\n",
       "      <td>1872</td>\n",
       "      <td>67</td>\n",
       "      <td>1122</td>\n",
       "      <td>40</td>\n",
       "      <td>Male</td>\n",
       "      <td>4</td>\n",
       "    </tr>\n",
       "    <tr>\n",
       "      <th>1</th>\n",
       "      <td>2</td>\n",
       "      <td>OnePlus 9</td>\n",
       "      <td>Android</td>\n",
       "      <td>268</td>\n",
       "      <td>4.7</td>\n",
       "      <td>1331</td>\n",
       "      <td>42</td>\n",
       "      <td>944</td>\n",
       "      <td>47</td>\n",
       "      <td>Female</td>\n",
       "      <td>3</td>\n",
       "    </tr>\n",
       "    <tr>\n",
       "      <th>2</th>\n",
       "      <td>3</td>\n",
       "      <td>Xiaomi Mi 11</td>\n",
       "      <td>Android</td>\n",
       "      <td>154</td>\n",
       "      <td>4.0</td>\n",
       "      <td>761</td>\n",
       "      <td>32</td>\n",
       "      <td>322</td>\n",
       "      <td>42</td>\n",
       "      <td>Male</td>\n",
       "      <td>2</td>\n",
       "    </tr>\n",
       "    <tr>\n",
       "      <th>3</th>\n",
       "      <td>4</td>\n",
       "      <td>Google Pixel 5</td>\n",
       "      <td>Android</td>\n",
       "      <td>239</td>\n",
       "      <td>4.8</td>\n",
       "      <td>1676</td>\n",
       "      <td>56</td>\n",
       "      <td>871</td>\n",
       "      <td>20</td>\n",
       "      <td>Male</td>\n",
       "      <td>3</td>\n",
       "    </tr>\n",
       "    <tr>\n",
       "      <th>4</th>\n",
       "      <td>5</td>\n",
       "      <td>iPhone 12</td>\n",
       "      <td>iOS</td>\n",
       "      <td>187</td>\n",
       "      <td>4.3</td>\n",
       "      <td>1367</td>\n",
       "      <td>58</td>\n",
       "      <td>988</td>\n",
       "      <td>31</td>\n",
       "      <td>Female</td>\n",
       "      <td>3</td>\n",
       "    </tr>\n",
       "  </tbody>\n",
       "</table>\n",
       "</div>"
      ],
      "text/plain": [
       "   User ID    Device Model Operating System  App Usage Time (min/day)  \\\n",
       "0        1  Google Pixel 5          Android                       393   \n",
       "1        2       OnePlus 9          Android                       268   \n",
       "2        3    Xiaomi Mi 11          Android                       154   \n",
       "3        4  Google Pixel 5          Android                       239   \n",
       "4        5       iPhone 12              iOS                       187   \n",
       "\n",
       "   Screen On Time (hours/day)  Battery Drain (mAh/day)  \\\n",
       "0                         6.4                     1872   \n",
       "1                         4.7                     1331   \n",
       "2                         4.0                      761   \n",
       "3                         4.8                     1676   \n",
       "4                         4.3                     1367   \n",
       "\n",
       "   Number of Apps Installed  Data Usage (MB/day)  Age  Gender  \\\n",
       "0                        67                 1122   40    Male   \n",
       "1                        42                  944   47  Female   \n",
       "2                        32                  322   42    Male   \n",
       "3                        56                  871   20    Male   \n",
       "4                        58                  988   31  Female   \n",
       "\n",
       "   User Behavior Class  \n",
       "0                    4  \n",
       "1                    3  \n",
       "2                    2  \n",
       "3                    3  \n",
       "4                    3  "
      ]
     },
     "execution_count": 2,
     "metadata": {},
     "output_type": "execute_result"
    }
   ],
   "source": [
    "# Read the dataset\n",
    "data = pd.read_csv('user_behavior_dataset.csv')\n",
    "data.head()"
   ]
  },
  {
   "cell_type": "markdown",
   "id": "d92319c1",
   "metadata": {},
   "source": [
    "## 3.1 Quick Overview Data"
   ]
  },
  {
   "cell_type": "code",
   "execution_count": 3,
   "id": "01b868c8",
   "metadata": {},
   "outputs": [
    {
     "data": {
      "text/plain": [
       "array([4, 3, 2, 5, 1], dtype=int64)"
      ]
     },
     "execution_count": 3,
     "metadata": {},
     "output_type": "execute_result"
    }
   ],
   "source": [
    "data['User Behavior Class'].unique()"
   ]
  },
  {
   "cell_type": "markdown",
   "id": "4cae637f",
   "metadata": {},
   "source": [
    "The data has 11 columns and user behavior class is categorize to 5 behavior"
   ]
  },
  {
   "cell_type": "code",
   "execution_count": 4,
   "id": "f9731f16",
   "metadata": {},
   "outputs": [
    {
     "name": "stdout",
     "output_type": "stream",
     "text": [
      "<class 'pandas.core.frame.DataFrame'>\n",
      "RangeIndex: 700 entries, 0 to 699\n",
      "Data columns (total 11 columns):\n",
      " #   Column                      Non-Null Count  Dtype  \n",
      "---  ------                      --------------  -----  \n",
      " 0   User ID                     700 non-null    int64  \n",
      " 1   Device Model                700 non-null    object \n",
      " 2   Operating System            700 non-null    object \n",
      " 3   App Usage Time (min/day)    700 non-null    int64  \n",
      " 4   Screen On Time (hours/day)  700 non-null    float64\n",
      " 5   Battery Drain (mAh/day)     700 non-null    int64  \n",
      " 6   Number of Apps Installed    700 non-null    int64  \n",
      " 7   Data Usage (MB/day)         700 non-null    int64  \n",
      " 8   Age                         700 non-null    int64  \n",
      " 9   Gender                      700 non-null    object \n",
      " 10  User Behavior Class         700 non-null    int64  \n",
      "dtypes: float64(1), int64(7), object(3)\n",
      "memory usage: 60.3+ KB\n"
     ]
    }
   ],
   "source": [
    "data.info()"
   ]
  },
  {
   "cell_type": "code",
   "execution_count": 5,
   "id": "37cc8d3c",
   "metadata": {},
   "outputs": [
    {
     "name": "stdout",
     "output_type": "stream",
     "text": [
      "['Model device : Google Pixel 5' 'Model device : OnePlus 9'\n",
      " 'Model device : Xiaomi Mi 11' 'Model device : iPhone 12'\n",
      " 'Model device : Samsung Galaxy S21']\n",
      "--------------------------------------------------\n",
      "['Operating System : Android' 'Operating System : iOS']\n"
     ]
    }
   ],
   "source": [
    "print(\"Model device : \"+ data['Device Model'].unique())\n",
    "print(\"--------------------------------------------------\")\n",
    "print(\"Operating System : \" + data['Operating System'].unique())"
   ]
  },
  {
   "cell_type": "markdown",
   "id": "289a6230",
   "metadata": {},
   "source": [
    "The data only get data from 5 phone model and 2 Operating System"
   ]
  },
  {
   "cell_type": "code",
   "execution_count": 6,
   "id": "aec6d844",
   "metadata": {},
   "outputs": [
    {
     "data": {
      "text/plain": [
       "0"
      ]
     },
     "execution_count": 6,
     "metadata": {},
     "output_type": "execute_result"
    }
   ],
   "source": [
    "#check data duplicate\n",
    "data.duplicated().sum()"
   ]
  },
  {
   "cell_type": "code",
   "execution_count": 7,
   "id": "70bcfd91",
   "metadata": {},
   "outputs": [
    {
     "data": {
      "text/plain": [
       "User ID                       0\n",
       "Device Model                  0\n",
       "Operating System              0\n",
       "App Usage Time (min/day)      0\n",
       "Screen On Time (hours/day)    0\n",
       "Battery Drain (mAh/day)       0\n",
       "Number of Apps Installed      0\n",
       "Data Usage (MB/day)           0\n",
       "Age                           0\n",
       "Gender                        0\n",
       "User Behavior Class           0\n",
       "dtype: int64"
      ]
     },
     "execution_count": 7,
     "metadata": {},
     "output_type": "execute_result"
    }
   ],
   "source": [
    "#check missing value\n",
    "data.isnull().sum()"
   ]
  },
  {
   "cell_type": "markdown",
   "id": "9093c10b",
   "metadata": {},
   "source": [
    "# 4. Exploratory Data Analysis (EDA)"
   ]
  },
  {
   "cell_type": "code",
   "execution_count": 8,
   "id": "e1cd765b",
   "metadata": {},
   "outputs": [],
   "source": [
    "# Sorting the data by 'User Behavior Class' from low to high\n",
    "data.sort_values(by='User Behavior Class', inplace=True)"
   ]
  },
  {
   "cell_type": "markdown",
   "id": "d84498f9",
   "metadata": {},
   "source": [
    "## 4.1 Looking User Behavior Class Distribution"
   ]
  },
  {
   "cell_type": "code",
   "execution_count": 9,
   "id": "afceda78",
   "metadata": {},
   "outputs": [
    {
     "data": {
      "image/png": "[encoded data removed]",
      "text/plain": [
       "<Figure size 640x480 with 1 Axes>"
      ]
     },
     "metadata": {},
     "output_type": "display_data"
    }
   ],
   "source": [
    "# count the number of unique values in 'User Behavior Class'\n",
    "user_behavior_class_counts = data['User Behavior Class'].value_counts()\n",
    "\n",
    "# Creating a pie plot\n",
    "plt.pie(user_behavior_class_counts, labels=user_behavior_class_counts.index, autopct='%1.1f%%', startangle=140)\n",
    "plt.title('User Behavior Class Distribution')\n",
    "plt.show()"
   ]
  },
  {
   "cell_type": "markdown",
   "id": "c8b54bbc",
   "metadata": {},
   "source": [
    "## 4.2 Looking Gender Distribution"
   ]
  },
  {
   "cell_type": "code",
   "execution_count": 10,
   "id": "cf81f914",
   "metadata": {},
   "outputs": [
    {
     "data": {
      "image/png": "[encoded data removed]",
      "text/plain": [
       "<Figure size 640x480 with 1 Axes>"
      ]
     },
     "metadata": {},
     "output_type": "display_data"
    }
   ],
   "source": [
    "# count the number of unique values in 'gender'\n",
    "gender_counts = data['Gender'].value_counts()\n",
    "\n",
    "# Creating a pie plot\n",
    "plt.pie(gender_counts,labels = gender_counts.index, autopct='%1.1f%%', startangle=140)\n",
    "plt.title('gender Distribution')\n",
    "plt.show()"
   ]
  },
  {
   "cell_type": "markdown",
   "id": "d8f18b72",
   "metadata": {},
   "source": [
    "## 4.3 Generation Distribution"
   ]
  },
  {
   "cell_type": "code",
   "execution_count": 11,
   "id": "66041450",
   "metadata": {},
   "outputs": [],
   "source": [
    "data.loc[data['Age'] < 27, 'Generation'] = 'Gen Z'\n",
    "data.loc[(data['Age'] >= 27) & (data['Age'] < 42), 'Generation'] = 'Millenial'\n",
    "data.loc[(data['Age'] >= 42) & (data['Age'] < 60), 'Generation'] = 'Gen X'"
   ]
  },
  {
   "cell_type": "code",
   "execution_count": 12,
   "id": "95f65d10",
   "metadata": {},
   "outputs": [
    {
     "data": {
      "image/png": "[encoded data removed]",
      "text/plain": [
       "<Figure size 640x480 with 1 Axes>"
      ]
     },
     "metadata": {},
     "output_type": "display_data"
    }
   ],
   "source": [
    "# count the number of unique values in 'Generation'\n",
    "generation_counts = data['Generation'].value_counts()\n",
    "# Creating a pie plot\n",
    "plt.pie(generation_counts, labels=generation_counts.index, autopct='%1.1f%%', startangle=140)\n",
    "plt.title('Generation Distribution')\n",
    "plt.show()"
   ]
  },
  {
   "cell_type": "markdown",
   "id": "3f05367f",
   "metadata": {},
   "source": [
    "## 4.4 Operating System Distribution"
   ]
  },
  {
   "cell_type": "code",
   "execution_count": 13,
   "id": "6239b697",
   "metadata": {},
   "outputs": [
    {
     "data": {
      "image/png": "[encoded data removed]",
      "text/plain": [
       "<Figure size 640x480 with 1 Axes>"
      ]
     },
     "metadata": {},
     "output_type": "display_data"
    }
   ],
   "source": [
    "# count the number of unique values in 'Operating System'\n",
    "os_counts = data['Operating System'].value_counts()\n",
    "# Creating a pie plot\n",
    "plt.pie(os_counts, labels=os_counts.index, autopct='%1.1f%%', startangle=140)\n",
    "plt.title('Operating System Distribution')\n",
    "plt.show()"
   ]
  },
  {
   "cell_type": "markdown",
   "id": "a947b5b8",
   "metadata": {},
   "source": [
    "## 4.5 Total Installed Apps Distribution\n",
    "First we gonna split every 10 apps installed in the device"
   ]
  },
  {
   "cell_type": "code",
   "execution_count": 14,
   "id": "9f156f8f",
   "metadata": {},
   "outputs": [],
   "source": [
    "data.loc[data['Number of Apps Installed'] <= 10, 'Category Installed Apps'] = '0-10 Apps'\n",
    "data.loc[(data['Number of Apps Installed'] > 10) & (data['Number of Apps Installed'] <= 20), 'Category Installed Apps'] = '11-20 Apps'\n",
    "data.loc[(data['Number of Apps Installed'] > 20) & (data['Number of Apps Installed'] <= 30), 'Category Installed Apps'] = '21-30 Apps'\n",
    "data.loc[(data['Number of Apps Installed'] > 30) & (data['Number of Apps Installed'] <= 40), 'Category Installed Apps'] = '31-40 Apps'\n",
    "data.loc[(data['Number of Apps Installed'] > 40) & (data['Number of Apps Installed'] <= 50), 'Category Installed Apps'] = '41-50 Apps'\n",
    "data.loc[(data['Number of Apps Installed'] > 50) & (data['Number of Apps Installed'] <= 60), 'Category Installed Apps'] = '51-60 Apps'\n",
    "data.loc[(data['Number of Apps Installed'] > 60) & (data['Number of Apps Installed'] <= 70), 'Category Installed Apps'] = '61-70 Apps'\n",
    "data.loc[(data['Number of Apps Installed'] > 70) & (data['Number of Apps Installed'] <= 80), 'Category Installed Apps'] = '71-80 Apps'\n",
    "data.loc[(data['Number of Apps Installed'] > 80) & (data['Number of Apps Installed'] <= 90), 'Category Installed Apps'] = '81-90 Apps'\n",
    "data.loc[(data['Number of Apps Installed'] > 90) & (data['Number of Apps Installed'] <= 100), 'Category Installed Apps'] = '91-100 Apps'"
   ]
  },
  {
   "cell_type": "code",
   "execution_count": 15,
   "id": "5fdcc692",
   "metadata": {},
   "outputs": [
    {
     "data": {
      "image/png": "[encoded data removed]",
      "text/plain": [
       "<Figure size 640x480 with 1 Axes>"
      ]
     },
     "metadata": {},
     "output_type": "display_data"
    }
   ],
   "source": [
    "# count the number of unique values in 'Category Installed Apps'\n",
    "category_installed_apps_counts = data['Category Installed Apps'].value_counts()\n",
    "# Creating a pie plot\n",
    "plt.pie(category_installed_apps_counts, labels=category_installed_apps_counts.index, autopct='%1.1f%%', startangle=140)\n",
    "plt.title('Category Installed Apps Distribution')\n",
    "plt.show()"
   ]
  },
  {
   "cell_type": "markdown",
   "id": "792c8f59",
   "metadata": {},
   "source": [
    "## 4.6 See Average Data Usage in every behavior class"
   ]
  },
  {
   "cell_type": "code",
   "execution_count": 16,
   "id": "fac574d8",
   "metadata": {},
   "outputs": [
    {
     "data": {
      "image/png": "[encoded data removed]",
      "text/plain": [
       "<Figure size 1000x600 with 1 Axes>"
      ]
     },
     "metadata": {},
     "output_type": "display_data"
    }
   ],
   "source": [
    "# Creat area plot for average data usage in every behavior class\n",
    "data.groupby('User Behavior Class')['Data Usage (MB/day)'].mean().plot(kind='area', figsize=(10, 6))\n",
    "plt.title('Average Data Usage by User Behavior Class')\n",
    "plt.xlabel('User Behavior Class')\n",
    "plt.ylabel('Average Data Usage (MB)')\n",
    "plt.show()\n",
    "\n"
   ]
  },
  {
   "cell_type": "markdown",
   "id": "1f1c02ee",
   "metadata": {},
   "source": [
    "## 4.7 See Average Screen On Time vs Behavior class"
   ]
  },
  {
   "cell_type": "code",
   "execution_count": 17,
   "id": "049ad79d",
   "metadata": {},
   "outputs": [
    {
     "data": {
      "image/png": "[encoded data removed]",
      "text/plain": [
       "<Figure size 1000x600 with 1 Axes>"
      ]
     },
     "metadata": {},
     "output_type": "display_data"
    }
   ],
   "source": [
    "# create area plot for average screen on time in every behavior class\n",
    "data.groupby('User Behavior Class')['Screen On Time (hours/day)'].mean().plot(kind='area', figsize=(10, 6))\n",
    "plt.title('Average Screen On Time by User Behavior Class')\n",
    "plt.xlabel('User Behavior Class')\n",
    "plt.ylabel('Average Screen On Time (hours/day)')\n",
    "plt.show()\n"
   ]
  },
  {
   "cell_type": "markdown",
   "id": "8cea51a2",
   "metadata": {},
   "source": [
    "## 4.8 See average battery Drain vs Behavior Class"
   ]
  },
  {
   "cell_type": "code",
   "execution_count": 18,
   "id": "1ab3a51f",
   "metadata": {},
   "outputs": [
    {
     "data": {
      "image/png": "[encoded data removed]",
      "text/plain": [
       "<Figure size 1000x600 with 1 Axes>"
      ]
     },
     "metadata": {},
     "output_type": "display_data"
    }
   ],
   "source": [
    "# creat area plot for average screen on time in every behavior class\n",
    "data.groupby('User Behavior Class')['Battery Drain (mAh/day)'].mean().plot(kind='area', figsize=(10, 6))\n",
    "plt.title('Average Battery Drain by User Behavior Class')\n",
    "plt.xlabel('User Behavior Class')\n",
    "plt.ylabel('Average Battery Drain (mAh/day)')\n",
    "plt.show()"
   ]
  },
  {
   "cell_type": "markdown",
   "id": "b89e097d",
   "metadata": {},
   "source": [
    "## 4.9 See correlation between Screen On Time and Data Usage to Behavior Class\n"
   ]
  },
  {
   "cell_type": "code",
   "execution_count": 19,
   "id": "8aede16f",
   "metadata": {},
   "outputs": [
    {
     "data": {
      "image/png": "[encoded data removed]",
      "text/plain": [
       "<Figure size 1000x600 with 1 Axes>"
      ]
     },
     "metadata": {},
     "output_type": "display_data"
    }
   ],
   "source": [
    "# See Correlation between 'Data Usage (MB/day)' and 'Screen On Time (hours/day)'\n",
    "plt.figure(figsize=(10, 6))\n",
    "sns.scatterplot(x='Data Usage (MB/day)', y='Screen On Time (hours/day)', data=data, hue='User Behavior Class')\n",
    "plt.title('Data Usage vs Screen On Time')\n",
    "plt.xlabel('Data Usage (MB/day)')\n",
    "plt.ylabel('Screen On Time (hours/day)')\n",
    "plt.legend(title='User Behavior Class')\n",
    "plt.show()"
   ]
  },
  {
   "cell_type": "markdown",
   "id": "be035ad0",
   "metadata": {},
   "source": [
    "## 4.10 Summary of Exploratory Data Analysis"
   ]
  },
  {
   "cell_type": "markdown",
   "id": "79960912",
   "metadata": {},
   "source": [
    "The user behavior class distribution is **well-balanced**, with each class representing approximately **20%** of the total users.\n",
    "\n",
    "Demographically, **Generation X** users are more prevalent in the data than Millennials and Generation Z.\n",
    "\n",
    "Regarding operating systems, **80%** of users operate on **Android**, while **20%** use **iOS**.\n",
    "\n",
    "Across all behavior classes, there's a consistent increase in **average data usage, average screen-on time, and average battery drain**. This trend indicates that **Class 1 users interact minimally** with their mobile phones, whereas **Class 5 users exhibit the highest levels of interaction**."
   ]
  },
  {
   "cell_type": "markdown",
   "id": "8ea54987",
   "metadata": {},
   "source": [
    "# 5. Feature Engineering"
   ]
  },
  {
   "cell_type": "code",
   "execution_count": 20,
   "id": "72878bb3",
   "metadata": {},
   "outputs": [
    {
     "name": "stdout",
     "output_type": "stream",
     "text": [
      "<class 'pandas.core.frame.DataFrame'>\n",
      "Index: 700 entries, 235 to 232\n",
      "Data columns (total 13 columns):\n",
      " #   Column                      Non-Null Count  Dtype  \n",
      "---  ------                      --------------  -----  \n",
      " 0   User ID                     700 non-null    int64  \n",
      " 1   Device Model                700 non-null    object \n",
      " 2   Operating System            700 non-null    object \n",
      " 3   App Usage Time (min/day)    700 non-null    int64  \n",
      " 4   Screen On Time (hours/day)  700 non-null    float64\n",
      " 5   Battery Drain (mAh/day)     700 non-null    int64  \n",
      " 6   Number of Apps Installed    700 non-null    int64  \n",
      " 7   Data Usage (MB/day)         700 non-null    int64  \n",
      " 8   Age                         700 non-null    int64  \n",
      " 9   Gender                      700 non-null    object \n",
      " 10  User Behavior Class         700 non-null    int64  \n",
      " 11  Generation                  700 non-null    object \n",
      " 12  Category Installed Apps     700 non-null    object \n",
      "dtypes: float64(1), int64(7), object(5)\n",
      "memory usage: 76.6+ KB\n"
     ]
    }
   ],
   "source": [
    "data.info()"
   ]
  },
  {
   "cell_type": "markdown",
   "id": "81180d5f",
   "metadata": {},
   "source": [
    "Data used in this model only data numerical and categorical that :\n",
    "List data Numerical :\n",
    "1. App Usage Time (Continue)\n",
    "2. Screen On Time (Continue)\n",
    "3. Battery Drain (Continue)\n",
    "4. Number of Apps Installed (Continue)\n",
    "5. Data Usage (Continue)\n",
    "6. Age (Dicrete)\n",
    "7. User Behavior Class (Dicrete)\n",
    "\n",
    "List data Categorical :\n",
    "1. Device Model (Nominal) \n",
    "2. Operating System (Nominal)\n",
    "3. Gender (Nominal)\n",
    "4. Generation (Nominal)\n",
    "5. Category Installed Apps (Nominal)"
   ]
  },
  {
   "cell_type": "code",
   "execution_count": 21,
   "id": "d51af33e",
   "metadata": {},
   "outputs": [],
   "source": [
    "data_numerical = ['Data Usage (MB/day)', 'Screen On Time (hours/day)', 'Battery Drain (mAh/day)', 'Age', 'Number of Apps Installed', 'App Usage Time (min/day)', 'User Behavior Class']\n",
    "data_categorical = ['Device Model', 'Operating System','Gender']"
   ]
  },
  {
   "cell_type": "code",
   "execution_count": 22,
   "id": "88fd7158",
   "metadata": {},
   "outputs": [],
   "source": [
    "x = data[data_numerical + data_categorical].drop(columns=['User Behavior Class'])\n",
    "y = data['User Behavior Class']"
   ]
  },
  {
   "cell_type": "code",
   "execution_count": 23,
   "id": "139430a6",
   "metadata": {},
   "outputs": [
    {
     "data": {
      "text/html": [
       "<div>\n",
       "<style scoped>\n",
       "    .dataframe tbody tr th:only-of-type {\n",
       "        vertical-align: middle;\n",
       "    }\n",
       "\n",
       "    .dataframe tbody tr th {\n",
       "        vertical-align: top;\n",
       "    }\n",
       "\n",
       "    .dataframe thead th {\n",
       "        text-align: right;\n",
       "    }\n",
       "</style>\n",
       "<table border=\"1\" class=\"dataframe\">\n",
       "  <thead>\n",
       "    <tr style=\"text-align: right;\">\n",
       "      <th></th>\n",
       "      <th>Data Usage (MB/day)</th>\n",
       "      <th>Screen On Time (hours/day)</th>\n",
       "      <th>Battery Drain (mAh/day)</th>\n",
       "      <th>Age</th>\n",
       "      <th>Number of Apps Installed</th>\n",
       "      <th>App Usage Time (min/day)</th>\n",
       "      <th>Device Model</th>\n",
       "      <th>Operating System</th>\n",
       "      <th>Gender</th>\n",
       "    </tr>\n",
       "  </thead>\n",
       "  <tbody>\n",
       "    <tr>\n",
       "      <th>235</th>\n",
       "      <td>295</td>\n",
       "      <td>1.4</td>\n",
       "      <td>369</td>\n",
       "      <td>19</td>\n",
       "      <td>18</td>\n",
       "      <td>37</td>\n",
       "      <td>Xiaomi Mi 11</td>\n",
       "      <td>Android</td>\n",
       "      <td>Female</td>\n",
       "    </tr>\n",
       "    <tr>\n",
       "      <th>323</th>\n",
       "      <td>156</td>\n",
       "      <td>1.3</td>\n",
       "      <td>490</td>\n",
       "      <td>31</td>\n",
       "      <td>14</td>\n",
       "      <td>76</td>\n",
       "      <td>Xiaomi Mi 11</td>\n",
       "      <td>Android</td>\n",
       "      <td>Female</td>\n",
       "    </tr>\n",
       "    <tr>\n",
       "      <th>163</th>\n",
       "      <td>139</td>\n",
       "      <td>2.0</td>\n",
       "      <td>469</td>\n",
       "      <td>22</td>\n",
       "      <td>18</td>\n",
       "      <td>32</td>\n",
       "      <td>iPhone 12</td>\n",
       "      <td>iOS</td>\n",
       "      <td>Male</td>\n",
       "    </tr>\n",
       "    <tr>\n",
       "      <th>399</th>\n",
       "      <td>203</td>\n",
       "      <td>1.5</td>\n",
       "      <td>571</td>\n",
       "      <td>29</td>\n",
       "      <td>10</td>\n",
       "      <td>49</td>\n",
       "      <td>OnePlus 9</td>\n",
       "      <td>Android</td>\n",
       "      <td>Male</td>\n",
       "    </tr>\n",
       "    <tr>\n",
       "      <th>398</th>\n",
       "      <td>221</td>\n",
       "      <td>1.6</td>\n",
       "      <td>323</td>\n",
       "      <td>43</td>\n",
       "      <td>18</td>\n",
       "      <td>41</td>\n",
       "      <td>OnePlus 9</td>\n",
       "      <td>Android</td>\n",
       "      <td>Female</td>\n",
       "    </tr>\n",
       "    <tr>\n",
       "      <th>...</th>\n",
       "      <td>...</td>\n",
       "      <td>...</td>\n",
       "      <td>...</td>\n",
       "      <td>...</td>\n",
       "      <td>...</td>\n",
       "      <td>...</td>\n",
       "      <td>...</td>\n",
       "      <td>...</td>\n",
       "      <td>...</td>\n",
       "    </tr>\n",
       "    <tr>\n",
       "      <th>211</th>\n",
       "      <td>2017</td>\n",
       "      <td>10.9</td>\n",
       "      <td>2752</td>\n",
       "      <td>18</td>\n",
       "      <td>86</td>\n",
       "      <td>481</td>\n",
       "      <td>Samsung Galaxy S21</td>\n",
       "      <td>Android</td>\n",
       "      <td>Male</td>\n",
       "    </tr>\n",
       "    <tr>\n",
       "      <th>511</th>\n",
       "      <td>1682</td>\n",
       "      <td>10.8</td>\n",
       "      <td>2911</td>\n",
       "      <td>39</td>\n",
       "      <td>89</td>\n",
       "      <td>567</td>\n",
       "      <td>Samsung Galaxy S21</td>\n",
       "      <td>Android</td>\n",
       "      <td>Male</td>\n",
       "    </tr>\n",
       "    <tr>\n",
       "      <th>208</th>\n",
       "      <td>1990</td>\n",
       "      <td>9.3</td>\n",
       "      <td>2606</td>\n",
       "      <td>41</td>\n",
       "      <td>92</td>\n",
       "      <td>539</td>\n",
       "      <td>OnePlus 9</td>\n",
       "      <td>Android</td>\n",
       "      <td>Male</td>\n",
       "    </tr>\n",
       "    <tr>\n",
       "      <th>394</th>\n",
       "      <td>1774</td>\n",
       "      <td>9.2</td>\n",
       "      <td>2663</td>\n",
       "      <td>45</td>\n",
       "      <td>84</td>\n",
       "      <td>589</td>\n",
       "      <td>Google Pixel 5</td>\n",
       "      <td>Android</td>\n",
       "      <td>Female</td>\n",
       "    </tr>\n",
       "    <tr>\n",
       "      <th>232</th>\n",
       "      <td>1763</td>\n",
       "      <td>10.0</td>\n",
       "      <td>2720</td>\n",
       "      <td>35</td>\n",
       "      <td>83</td>\n",
       "      <td>537</td>\n",
       "      <td>Xiaomi Mi 11</td>\n",
       "      <td>Android</td>\n",
       "      <td>Male</td>\n",
       "    </tr>\n",
       "  </tbody>\n",
       "</table>\n",
       "<p>700 rows × 9 columns</p>\n",
       "</div>"
      ],
      "text/plain": [
       "     Data Usage (MB/day)  Screen On Time (hours/day)  Battery Drain (mAh/day)  \\\n",
       "235                  295                         1.4                      369   \n",
       "323                  156                         1.3                      490   \n",
       "163                  139                         2.0                      469   \n",
       "399                  203                         1.5                      571   \n",
       "398                  221                         1.6                      323   \n",
       "..                   ...                         ...                      ...   \n",
       "211                 2017                        10.9                     2752   \n",
       "511                 1682                        10.8                     2911   \n",
       "208                 1990                         9.3                     2606   \n",
       "394                 1774                         9.2                     2663   \n",
       "232                 1763                        10.0                     2720   \n",
       "\n",
       "     Age  Number of Apps Installed  App Usage Time (min/day)  \\\n",
       "235   19                        18                        37   \n",
       "323   31                        14                        76   \n",
       "163   22                        18                        32   \n",
       "399   29                        10                        49   \n",
       "398   43                        18                        41   \n",
       "..   ...                       ...                       ...   \n",
       "211   18                        86                       481   \n",
       "511   39                        89                       567   \n",
       "208   41                        92                       539   \n",
       "394   45                        84                       589   \n",
       "232   35                        83                       537   \n",
       "\n",
       "           Device Model Operating System  Gender  \n",
       "235        Xiaomi Mi 11          Android  Female  \n",
       "323        Xiaomi Mi 11          Android  Female  \n",
       "163           iPhone 12              iOS    Male  \n",
       "399           OnePlus 9          Android    Male  \n",
       "398           OnePlus 9          Android  Female  \n",
       "..                  ...              ...     ...  \n",
       "211  Samsung Galaxy S21          Android    Male  \n",
       "511  Samsung Galaxy S21          Android    Male  \n",
       "208           OnePlus 9          Android    Male  \n",
       "394      Google Pixel 5          Android  Female  \n",
       "232        Xiaomi Mi 11          Android    Male  \n",
       "\n",
       "[700 rows x 9 columns]"
      ]
     },
     "execution_count": 23,
     "metadata": {},
     "output_type": "execute_result"
    }
   ],
   "source": [
    "x"
   ]
  },
  {
   "cell_type": "code",
   "execution_count": 24,
   "id": "27854860",
   "metadata": {},
   "outputs": [
    {
     "data": {
      "text/plain": [
       "235    1\n",
       "323    1\n",
       "163    1\n",
       "399    1\n",
       "398    1\n",
       "      ..\n",
       "211    5\n",
       "511    5\n",
       "208    5\n",
       "394    5\n",
       "232    5\n",
       "Name: User Behavior Class, Length: 700, dtype: int64"
      ]
     },
     "execution_count": 24,
     "metadata": {},
     "output_type": "execute_result"
    }
   ],
   "source": [
    "y"
   ]
  },
  {
   "cell_type": "markdown",
   "id": "48d66d55",
   "metadata": {},
   "source": [
    "## 5.1 Split data train and data test"
   ]
  },
  {
   "cell_type": "code",
   "execution_count": 25,
   "id": "60419806",
   "metadata": {},
   "outputs": [
    {
     "name": "stdout",
     "output_type": "stream",
     "text": [
      "X_train shape:  (560, 9)\n",
      "X_test shape:  (140, 9)\n"
     ]
    }
   ],
   "source": [
    "X_train, X_test, y_train, y_test = train_test_split(x, y, test_size=0.2, random_state=42, stratify=y)\n",
    "\n",
    "print(\"X_train shape: \", X_train.shape)\n",
    "print(\"X_test shape: \", X_test.shape)"
   ]
  },
  {
   "cell_type": "code",
   "execution_count": 26,
   "id": "24921755",
   "metadata": {},
   "outputs": [
    {
     "name": "stdout",
     "output_type": "stream",
     "text": [
      "y_train shape:  (560,)\n",
      "y_test shape:  (140,)\n",
      "<class 'pandas.core.series.Series'>\n",
      "Index: 560 entries, 71 to 144\n",
      "Series name: User Behavior Class\n",
      "Non-Null Count  Dtype\n",
      "--------------  -----\n",
      "560 non-null    int64\n",
      "dtypes: int64(1)\n",
      "memory usage: 8.8 KB\n"
     ]
    }
   ],
   "source": [
    "#Check the shape of the data y\n",
    "print(\"y_train shape: \", y_train.shape)\n",
    "print(\"y_test shape: \", y_test.shape)\n",
    "y_train.info()"
   ]
  },
  {
   "cell_type": "markdown",
   "id": "994359ff",
   "metadata": {},
   "source": [
    "## 5.2 Handling Missing Value\n",
    "Because in data overview we know that no missing value, soo we can skip this one."
   ]
  },
  {
   "cell_type": "markdown",
   "id": "749534dc",
   "metadata": {},
   "source": [
    "## 5.3 Feature Selection\n",
    "See X_train data type"
   ]
  },
  {
   "cell_type": "code",
   "execution_count": 27,
   "id": "4ee76cbf",
   "metadata": {},
   "outputs": [
    {
     "name": "stdout",
     "output_type": "stream",
     "text": [
      "<class 'pandas.core.frame.DataFrame'>\n",
      "Index: 560 entries, 71 to 144\n",
      "Data columns (total 9 columns):\n",
      " #   Column                      Non-Null Count  Dtype  \n",
      "---  ------                      --------------  -----  \n",
      " 0   Data Usage (MB/day)         560 non-null    int64  \n",
      " 1   Screen On Time (hours/day)  560 non-null    float64\n",
      " 2   Battery Drain (mAh/day)     560 non-null    int64  \n",
      " 3   Age                         560 non-null    int64  \n",
      " 4   Number of Apps Installed    560 non-null    int64  \n",
      " 5   App Usage Time (min/day)    560 non-null    int64  \n",
      " 6   Device Model                560 non-null    object \n",
      " 7   Operating System            560 non-null    object \n",
      " 8   Gender                      560 non-null    object \n",
      "dtypes: float64(1), int64(5), object(3)\n",
      "memory usage: 43.8+ KB\n"
     ]
    }
   ],
   "source": [
    "X_train.info()"
   ]
  },
  {
   "cell_type": "markdown",
   "id": "06b3fbb9",
   "metadata": {},
   "source": [
    "Using Phik to see correlation from each data"
   ]
  },
  {
   "cell_type": "code",
   "execution_count": 28,
   "id": "3ec1e538",
   "metadata": {},
   "outputs": [
    {
     "name": "stdout",
     "output_type": "stream",
     "text": [
      "interval columns not set, guessing: ['Data Usage (MB/day)', 'Screen On Time (hours/day)', 'Battery Drain (mAh/day)', 'Age', 'Number of Apps Installed', 'App Usage Time (min/day)', 'User Behavior Class']\n"
     ]
    },
    {
     "data": {
      "text/html": [
       "<div>\n",
       "<style scoped>\n",
       "    .dataframe tbody tr th:only-of-type {\n",
       "        vertical-align: middle;\n",
       "    }\n",
       "\n",
       "    .dataframe tbody tr th {\n",
       "        vertical-align: top;\n",
       "    }\n",
       "\n",
       "    .dataframe thead th {\n",
       "        text-align: right;\n",
       "    }\n",
       "</style>\n",
       "<table border=\"1\" class=\"dataframe\">\n",
       "  <thead>\n",
       "    <tr style=\"text-align: right;\">\n",
       "      <th></th>\n",
       "      <th>Data Usage (MB/day)</th>\n",
       "      <th>Screen On Time (hours/day)</th>\n",
       "      <th>Battery Drain (mAh/day)</th>\n",
       "      <th>Age</th>\n",
       "      <th>Number of Apps Installed</th>\n",
       "      <th>App Usage Time (min/day)</th>\n",
       "      <th>Device Model</th>\n",
       "      <th>Operating System</th>\n",
       "      <th>Gender</th>\n",
       "      <th>User Behavior Class</th>\n",
       "    </tr>\n",
       "  </thead>\n",
       "  <tbody>\n",
       "    <tr>\n",
       "      <th>Data Usage (MB/day)</th>\n",
       "      <td>1.000000</td>\n",
       "      <td>0.927484</td>\n",
       "      <td>0.928583</td>\n",
       "      <td>0.173461</td>\n",
       "      <td>0.928492</td>\n",
       "      <td>0.937551</td>\n",
       "      <td>0.000000</td>\n",
       "      <td>0.118598</td>\n",
       "      <td>0.218338</td>\n",
       "      <td>0.997134</td>\n",
       "    </tr>\n",
       "    <tr>\n",
       "      <th>Screen On Time (hours/day)</th>\n",
       "      <td>0.927484</td>\n",
       "      <td>1.000000</td>\n",
       "      <td>0.919686</td>\n",
       "      <td>0.000000</td>\n",
       "      <td>0.924592</td>\n",
       "      <td>0.930832</td>\n",
       "      <td>0.000000</td>\n",
       "      <td>0.000000</td>\n",
       "      <td>0.000000</td>\n",
       "      <td>0.995067</td>\n",
       "    </tr>\n",
       "    <tr>\n",
       "      <th>Battery Drain (mAh/day)</th>\n",
       "      <td>0.928583</td>\n",
       "      <td>0.919686</td>\n",
       "      <td>1.000000</td>\n",
       "      <td>0.049479</td>\n",
       "      <td>0.926576</td>\n",
       "      <td>0.932343</td>\n",
       "      <td>0.000000</td>\n",
       "      <td>0.000000</td>\n",
       "      <td>0.139787</td>\n",
       "      <td>0.995257</td>\n",
       "    </tr>\n",
       "    <tr>\n",
       "      <th>Age</th>\n",
       "      <td>0.173461</td>\n",
       "      <td>0.000000</td>\n",
       "      <td>0.049479</td>\n",
       "      <td>1.000000</td>\n",
       "      <td>0.160216</td>\n",
       "      <td>0.225809</td>\n",
       "      <td>0.000000</td>\n",
       "      <td>0.065251</td>\n",
       "      <td>0.120363</td>\n",
       "      <td>0.162679</td>\n",
       "    </tr>\n",
       "    <tr>\n",
       "      <th>Number of Apps Installed</th>\n",
       "      <td>0.928492</td>\n",
       "      <td>0.924592</td>\n",
       "      <td>0.926576</td>\n",
       "      <td>0.160216</td>\n",
       "      <td>1.000000</td>\n",
       "      <td>0.934028</td>\n",
       "      <td>0.000000</td>\n",
       "      <td>0.000000</td>\n",
       "      <td>0.055233</td>\n",
       "      <td>0.996129</td>\n",
       "    </tr>\n",
       "    <tr>\n",
       "      <th>App Usage Time (min/day)</th>\n",
       "      <td>0.937551</td>\n",
       "      <td>0.930832</td>\n",
       "      <td>0.932343</td>\n",
       "      <td>0.225809</td>\n",
       "      <td>0.934028</td>\n",
       "      <td>1.000000</td>\n",
       "      <td>0.045643</td>\n",
       "      <td>0.171158</td>\n",
       "      <td>0.000000</td>\n",
       "      <td>0.998399</td>\n",
       "    </tr>\n",
       "    <tr>\n",
       "      <th>Device Model</th>\n",
       "      <td>0.000000</td>\n",
       "      <td>0.000000</td>\n",
       "      <td>0.000000</td>\n",
       "      <td>0.000000</td>\n",
       "      <td>0.000000</td>\n",
       "      <td>0.045643</td>\n",
       "      <td>1.000000</td>\n",
       "      <td>1.000000</td>\n",
       "      <td>0.000000</td>\n",
       "      <td>0.000000</td>\n",
       "    </tr>\n",
       "    <tr>\n",
       "      <th>Operating System</th>\n",
       "      <td>0.118598</td>\n",
       "      <td>0.000000</td>\n",
       "      <td>0.000000</td>\n",
       "      <td>0.065251</td>\n",
       "      <td>0.000000</td>\n",
       "      <td>0.171158</td>\n",
       "      <td>1.000000</td>\n",
       "      <td>1.000000</td>\n",
       "      <td>0.000000</td>\n",
       "      <td>0.018403</td>\n",
       "    </tr>\n",
       "    <tr>\n",
       "      <th>Gender</th>\n",
       "      <td>0.218338</td>\n",
       "      <td>0.000000</td>\n",
       "      <td>0.139787</td>\n",
       "      <td>0.120363</td>\n",
       "      <td>0.055233</td>\n",
       "      <td>0.000000</td>\n",
       "      <td>0.000000</td>\n",
       "      <td>0.000000</td>\n",
       "      <td>1.000000</td>\n",
       "      <td>0.062202</td>\n",
       "    </tr>\n",
       "    <tr>\n",
       "      <th>User Behavior Class</th>\n",
       "      <td>0.997134</td>\n",
       "      <td>0.995067</td>\n",
       "      <td>0.995257</td>\n",
       "      <td>0.162679</td>\n",
       "      <td>0.996129</td>\n",
       "      <td>0.998399</td>\n",
       "      <td>0.000000</td>\n",
       "      <td>0.018403</td>\n",
       "      <td>0.062202</td>\n",
       "      <td>1.000000</td>\n",
       "    </tr>\n",
       "  </tbody>\n",
       "</table>\n",
       "</div>"
      ],
      "text/plain": [
       "                            Data Usage (MB/day)  Screen On Time (hours/day)  \\\n",
       "Data Usage (MB/day)                    1.000000                    0.927484   \n",
       "Screen On Time (hours/day)             0.927484                    1.000000   \n",
       "Battery Drain (mAh/day)                0.928583                    0.919686   \n",
       "Age                                    0.173461                    0.000000   \n",
       "Number of Apps Installed               0.928492                    0.924592   \n",
       "App Usage Time (min/day)               0.937551                    0.930832   \n",
       "Device Model                           0.000000                    0.000000   \n",
       "Operating System                       0.118598                    0.000000   \n",
       "Gender                                 0.218338                    0.000000   \n",
       "User Behavior Class                    0.997134                    0.995067   \n",
       "\n",
       "                            Battery Drain (mAh/day)       Age  \\\n",
       "Data Usage (MB/day)                        0.928583  0.173461   \n",
       "Screen On Time (hours/day)                 0.919686  0.000000   \n",
       "Battery Drain (mAh/day)                    1.000000  0.049479   \n",
       "Age                                        0.049479  1.000000   \n",
       "Number of Apps Installed                   0.926576  0.160216   \n",
       "App Usage Time (min/day)                   0.932343  0.225809   \n",
       "Device Model                               0.000000  0.000000   \n",
       "Operating System                           0.000000  0.065251   \n",
       "Gender                                     0.139787  0.120363   \n",
       "User Behavior Class                        0.995257  0.162679   \n",
       "\n",
       "                            Number of Apps Installed  \\\n",
       "Data Usage (MB/day)                         0.928492   \n",
       "Screen On Time (hours/day)                  0.924592   \n",
       "Battery Drain (mAh/day)                     0.926576   \n",
       "Age                                         0.160216   \n",
       "Number of Apps Installed                    1.000000   \n",
       "App Usage Time (min/day)                    0.934028   \n",
       "Device Model                                0.000000   \n",
       "Operating System                            0.000000   \n",
       "Gender                                      0.055233   \n",
       "User Behavior Class                         0.996129   \n",
       "\n",
       "                            App Usage Time (min/day)  Device Model  \\\n",
       "Data Usage (MB/day)                         0.937551      0.000000   \n",
       "Screen On Time (hours/day)                  0.930832      0.000000   \n",
       "Battery Drain (mAh/day)                     0.932343      0.000000   \n",
       "Age                                         0.225809      0.000000   \n",
       "Number of Apps Installed                    0.934028      0.000000   \n",
       "App Usage Time (min/day)                    1.000000      0.045643   \n",
       "Device Model                                0.045643      1.000000   \n",
       "Operating System                            0.171158      1.000000   \n",
       "Gender                                      0.000000      0.000000   \n",
       "User Behavior Class                         0.998399      0.000000   \n",
       "\n",
       "                            Operating System    Gender  User Behavior Class  \n",
       "Data Usage (MB/day)                 0.118598  0.218338             0.997134  \n",
       "Screen On Time (hours/day)          0.000000  0.000000             0.995067  \n",
       "Battery Drain (mAh/day)             0.000000  0.139787             0.995257  \n",
       "Age                                 0.065251  0.120363             0.162679  \n",
       "Number of Apps Installed            0.000000  0.055233             0.996129  \n",
       "App Usage Time (min/day)            0.171158  0.000000             0.998399  \n",
       "Device Model                        1.000000  0.000000             0.000000  \n",
       "Operating System                    1.000000  0.000000             0.018403  \n",
       "Gender                              0.000000  1.000000             0.062202  \n",
       "User Behavior Class                 0.018403  0.062202             1.000000  "
      ]
     },
     "execution_count": 28,
     "metadata": {},
     "output_type": "execute_result"
    }
   ],
   "source": [
    "phik_overview = pd.concat([X_train, y_train], axis=1).phik_matrix()\n",
    "phik_overview"
   ]
  },
  {
   "cell_type": "markdown",
   "id": "b03ac9a9",
   "metadata": {},
   "source": [
    "Based from corelation, wee can see that there is high correlation between few column to User Behavior Class, and i choose to pick only using above 90% correlation in this model. so im gonna use :\n",
    "1. Data Usage (MB/day)\n",
    "2. Screen On Time (hours/day)\n",
    "3. Battery Drain (mAh/day)\n",
    "4. Number of Apps Installed\n",
    "5. App Usage Time (min/day)\n",
    "\n"
   ]
  },
  {
   "cell_type": "code",
   "execution_count": 29,
   "id": "04f31ab2",
   "metadata": {},
   "outputs": [],
   "source": [
    "features = ['Data Usage (MB/day)', 'Screen On Time (hours/day)', 'Battery Drain (mAh/day)', 'Number of Apps Installed', 'App Usage Time (min/day)']\n",
    "X_train = X_train[features]"
   ]
  },
  {
   "cell_type": "markdown",
   "id": "08cc54ed",
   "metadata": {},
   "source": [
    "## 5.4 Check Cardinality"
   ]
  },
  {
   "cell_type": "code",
   "execution_count": 30,
   "id": "10990724",
   "metadata": {},
   "outputs": [
    {
     "data": {
      "text/plain": [
       "Data Usage (MB/day)           488\n",
       "Screen On Time (hours/day)    107\n",
       "Battery Drain (mAh/day)       515\n",
       "Number of Apps Installed       86\n",
       "App Usage Time (min/day)      349\n",
       "dtype: int64"
      ]
     },
     "execution_count": 30,
     "metadata": {},
     "output_type": "execute_result"
    }
   ],
   "source": [
    "X_train.nunique()"
   ]
  },
  {
   "cell_type": "markdown",
   "id": "339fbcb0",
   "metadata": {},
   "source": [
    "Because from cardinality categorize still small, soo im not gonna change anything"
   ]
  },
  {
   "cell_type": "markdown",
   "id": "7395ebb0",
   "metadata": {},
   "source": [
    "## 5.5 Handling Outlier"
   ]
  },
  {
   "cell_type": "code",
   "execution_count": 31,
   "id": "b2f6453b",
   "metadata": {},
   "outputs": [],
   "source": [
    "Numeric_continuous = ['Data Usage (MB/day)', 'Screen On Time (hours/day)', 'Battery Drain (mAh/day)', 'Number of Apps Installed', 'App Usage Time (min/day)']\n",
    "Numeric_discrete = ['Age','user Bhavior Class']"
   ]
  },
  {
   "cell_type": "code",
   "execution_count": 32,
   "id": "91bee684",
   "metadata": {},
   "outputs": [
    {
     "name": "stdout",
     "output_type": "stream",
     "text": [
      "Data extreme =  []\n",
      "Data skew =  ['Data Usage (MB/day)']\n",
      "Data normal =  ['Screen On Time (hours/day)', 'Battery Drain (mAh/day)', 'Number of Apps Installed', 'App Usage Time (min/day)']\n"
     ]
    }
   ],
   "source": [
    "data_extreme = []\n",
    "data_skew = []\n",
    "data_normal = []\n",
    "\n",
    "def cek_skew(data):\n",
    "    for column in Numeric_continuous:\n",
    "        if data[column].skew() >= 1 or data[column].skew() <= -1:\n",
    "            data_extreme.append(column)\n",
    "        elif data[column].skew() >= 0.5 or data[column].skew() <= -0.5:\n",
    "            data_skew.append(column)\n",
    "        else:\n",
    "            data_normal.append(column)\n",
    "    print('Data extreme = ', data_extreme)\n",
    "    print('Data skew = ', data_skew)\n",
    "    print('Data normal = ', data_normal)\n",
    "\n",
    "cek_skew(X_train)"
   ]
  },
  {
   "cell_type": "markdown",
   "id": "7afdf0df",
   "metadata": {},
   "source": [
    "For data skew , we gonna use Winsorizer with iqr fold 1.5 and for data normal we gonna use gaussian only."
   ]
  },
  {
   "cell_type": "code",
   "execution_count": 33,
   "id": "fe84fbad",
   "metadata": {},
   "outputs": [],
   "source": [
    "normal_cap = winsorizer(capping_method='gaussian',\n",
    "                        fold = 3,\n",
    "                        tail = 'both',\n",
    "                        variables = data_normal)\n",
    "Skew_cap = winsorizer(capping_method='iqr',\n",
    "                         fold=1.5,\n",
    "                         tail = 'both',\n",
    "                         variables = data_skew)"
   ]
  },
  {
   "cell_type": "markdown",
   "id": "22c9e0c4",
   "metadata": {},
   "source": [
    "## 5.6 Data Scling"
   ]
  },
  {
   "cell_type": "code",
   "execution_count": 34,
   "id": "e859b904",
   "metadata": {},
   "outputs": [],
   "source": [
    "num_normal_scale = Pipeline([\n",
    "    ('winsorizer', normal_cap),\n",
    "    ('scaler', StandardScaler())\n",
    "])\n",
    "\n",
    "num_skew_scale = Pipeline([ \n",
    "    ('winsorizer', Skew_cap),\n",
    "    ('robust', RobustScaler())\n",
    "])"
   ]
  },
  {
   "cell_type": "markdown",
   "id": "930c254c",
   "metadata": {},
   "source": [
    "## 5.7 Data Encoding"
   ]
  },
  {
   "cell_type": "code",
   "execution_count": 35,
   "id": "b24d3a27",
   "metadata": {},
   "outputs": [],
   "source": [
    "preprocessor = ColumnTransformer(\n",
    "    transformers=[\n",
    "        ('num_skew', num_skew_scale,data_extreme),\n",
    "        ('num_normal',num_normal_scale, data_normal)\n",
    "        \n",
    "    ], remainder='drop')"
   ]
  },
  {
   "cell_type": "markdown",
   "id": "44e241ee",
   "metadata": {},
   "source": [
    "## 5.8 Data Balancing\n",
    "The data overview shows that each User Behavior Class has an approximately 20% representation, so data balancing isn't necessary.\n",
    "\n"
   ]
  },
  {
   "cell_type": "code",
   "execution_count": 36,
   "id": "285edbbd",
   "metadata": {},
   "outputs": [
    {
     "data": {
      "text/plain": [
       "User Behavior Class\n",
       "2    146\n",
       "3    143\n",
       "4    139\n",
       "1    136\n",
       "5    136\n",
       "Name: count, dtype: int64"
      ]
     },
     "execution_count": 36,
     "metadata": {},
     "output_type": "execute_result"
    }
   ],
   "source": [
    "# See count every data category in data['User Behavior Class']\n",
    "data['User Behavior Class'].value_counts()"
   ]
  },
  {
   "cell_type": "markdown",
   "id": "277f05a0",
   "metadata": {},
   "source": [
    "# 6. Model "
   ]
  },
  {
   "cell_type": "markdown",
   "id": "f7dc3d3d",
   "metadata": {},
   "source": [
    "Im gonna Search for the best model using cross validation to compare few model like :\n",
    "1. SVC model\n",
    "2. DecisionTreeClassifier model\n",
    "3. RandomForestClassifier model\n",
    "4. KNeighborsClassifier model\n",
    "5. GaussianNB model\n",
    "6. XGBClassifier model"
   ]
  },
  {
   "cell_type": "code",
   "execution_count": 37,
   "id": "a06d9c9e",
   "metadata": {},
   "outputs": [],
   "source": [
    "# Create a pipeline for each model to be compared\n",
    "pipe_svc = Pipeline([('preprocessor', preprocessor), ('classifier', SVC())])\n",
    "pipe_dt = Pipeline([('preprocessor', preprocessor),('classifier', DecisionTreeClassifier(random_state=10))])\n",
    "pipe_rf = Pipeline([('preprocessor', preprocessor), ('classifier', RandomForestClassifier(random_state=10))])\n",
    "pipe_knn = Pipeline([('preprocessor', preprocessor), ('classifier', KNeighborsClassifier())])\n",
    "pipe_nb = Pipeline([('preprocessor', preprocessor),('classifier', GaussianNB())])\n",
    "pipe_xgb = Pipeline([('preprocessor', preprocessor),('classifier', XGBClassifier())])"
   ]
  },
  {
   "cell_type": "code",
   "execution_count": 38,
   "id": "5c60ce46",
   "metadata": {},
   "outputs": [],
   "source": [
    "# Create a StratifiedKFold object for cross-validation\n",
    "skfold = StratifiedKFold(n_splits = 5)"
   ]
  },
  {
   "cell_type": "code",
   "execution_count": 39,
   "id": "1cb416b8",
   "metadata": {},
   "outputs": [
    {
     "name": "stdout",
     "output_type": "stream",
     "text": [
      "Unique classes in y_train: [1 2 3 4 5]\n"
     ]
    }
   ],
   "source": [
    "# Check unique classes in y_train\n",
    "print(\"Unique classes in y_train:\", np.unique(y_train))\n",
    "# Adjust y_train if necessary\n",
    "if np.min(y_train) == 1:  # Assuming classes start from 1\n",
    "    y_train = y_train - 1  # Shift classes to start from 0\n",
    "# Perform cross-validation for each model\n",
    "cv_svm_model = cross_val_score(pipe_svc, X_train, y_train, cv=skfold, scoring='accuracy', n_jobs=-1)\n",
    "cv_dt_model = cross_val_score(pipe_dt, X_train, y_train, cv=skfold, scoring='accuracy', n_jobs=-1)\n",
    "cv_rf_model = cross_val_score(pipe_rf, X_train, y_train, cv=skfold, scoring='accuracy', n_jobs=-1)\n",
    "cv_knn_model = cross_val_score(pipe_knn, X_train, y_train, cv=skfold, scoring='accuracy', n_jobs=-1)\n",
    "cv_nb_model = cross_val_score(pipe_nb, X_train, y_train, cv=skfold, scoring='accuracy', n_jobs=-1)\n",
    "cv_xgb_model = cross_val_score(pipe_xgb, X_train, y_train, cv=skfold, scoring='accuracy', n_jobs=-1)"
   ]
  },
  {
   "cell_type": "code",
   "execution_count": 40,
   "id": "33a82faa",
   "metadata": {},
   "outputs": [
    {
     "name": "stdout",
     "output_type": "stream",
     "text": [
      "svm_model\n",
      "f1score - All - Cross Validation : [1. 1. 1. 1. 1.]\n",
      "f1score - Mean - Cross Validation : 1.0\n",
      "f1score - std - Cross Validation : 0.0\n",
      "f1score - Range of Test Set : 1.0 - 1.0\n",
      "--------------------------------------------------\n",
      "dt_model\n",
      "f1score - All - Cross Validation : [0.99107143 1.         1.         0.97321429 1.        ]\n",
      "f1score - Mean - Cross Validation : 0.9928571428571429\n",
      "f1score - std - Cross Validation : 0.010412414097938041\n",
      "f1score - Range of Test Set : 0.9824447287592049 - 1.003269556955081\n",
      "--------------------------------------------------\n",
      "rf_model\n",
      "f1score - All - Cross Validation : [1. 1. 1. 1. 1.]\n",
      "f1score - Mean - Cross Validation : 1.0\n",
      "f1score - std - Cross Validation : 0.0\n",
      "f1score - Range of Test Set : 1.0 - 1.0\n",
      "--------------------------------------------------\n",
      "knn_model\n",
      "f1score - All - Cross Validation : [1. 1. 1. 1. 1.]\n",
      "f1score - Mean - Cross Validation : 1.0\n",
      "f1score - std - Cross Validation : 0.0\n",
      "f1score - Range of Test Set : 1.0 - 1.0\n",
      "--------------------------------------------------\n",
      "nb_model\n",
      "f1score - All - Cross Validation : [1. 1. 1. 1. 1.]\n",
      "f1score - Mean - Cross Validation : 1.0\n",
      "f1score - std - Cross Validation : 0.0\n",
      "f1score - Range of Test Set : 1.0 - 1.0\n",
      "--------------------------------------------------\n",
      "xgb_model\n",
      "f1score - All - Cross Validation : [1.         1.         0.98214286 1.         0.99107143]\n",
      "f1score - Mean - Cross Validation : 0.9946428571428572\n",
      "f1score - std - Cross Validation : 0.0071428571428571565\n",
      "f1score - Range of Test Set : 0.9875 - 1.0017857142857143\n",
      "--------------------------------------------------\n",
      "Best Model: svm_model\n",
      "Cross Val Mean from Best Model: 1.0\n"
     ]
    }
   ],
   "source": [
    "# Print the cross-validation scores for each model\n",
    "name_model = []\n",
    "cv_scores = 0\n",
    "for cv,name in zip([cv_svm_model,cv_dt_model,cv_rf_model,cv_knn_model,cv_nb_model,cv_xgb_model],\n",
    "                   ['svm_model','dt_model','rf_model','knn_model','nb_model','xgb_model']):\n",
    "  print(name)\n",
    "  print('f1score - All - Cross Validation :', cv)\n",
    "  print('f1score - Mean - Cross Validation :', cv.mean())\n",
    "  print('f1score - std - Cross Validation :', cv.std())\n",
    "  print('f1score - Range of Test Set :', (cv.mean()-cv.std()), '-' , (cv.mean()+cv.std()))\n",
    "  print('-'*50)\n",
    "  if cv.mean() > cv_scores:\n",
    "    cv_scores = cv.mean()\n",
    "    name_model = name\n",
    "  else:\n",
    "    pass\n",
    "print('Best Model:', name_model)\n",
    "print('Cross Val Mean from Best Model:', cv_scores)"
   ]
  },
  {
   "cell_type": "markdown",
   "id": "031f7d5e",
   "metadata": {},
   "source": [
    "Based from cross validation, the best model is SVM with f1score 100% then decision tree and KNN. in next code im gonna use SVM."
   ]
  },
  {
   "cell_type": "markdown",
   "id": "e679bf90",
   "metadata": {},
   "source": [
    "## 6.2 Model Definition\n",
    "Support Vector Machine (SVM) is a supervised machine learning algorithm used for classification and regression tasks. Here's a simple explanation of how it works:\n",
    "\n",
    "### Basic Concept\n",
    "\n",
    "1. **Objective**: The main goal of SVM is to find the best boundary (or hyperplane) that separates different classes in the data. This boundary should maximize the margin between the classes.\n",
    "\n",
    "2. **Hyperplane**: In a two-dimensional space, a hyperplane is simply a line that divides the space into two parts. In higher dimensions, it becomes a plane or a hyperplane.\n",
    "\n",
    "3. **Support Vectors**: The data points that are closest to the hyperplane are called support vectors. These points are critical because they are the ones that influence the position and orientation of the hyperplane. The SVM algorithm focuses on these points to define the optimal boundary.\n",
    "\n",
    "### How SVM Works\n",
    "\n",
    "1. **Training Phase**:\n",
    "   - The algorithm takes a set of labeled training data (features and corresponding class labels).\n",
    "   - It tries to find the hyperplane that best separates the classes while maximizing the margin between them.\n",
    "\n",
    "2. **Margin**: The margin is the distance between the hyperplane and the nearest data points from either class. A larger margin is preferred because it indicates a better generalization to unseen data.\n",
    "\n",
    "3. **Kernel Trick**: SVM can handle non-linear data by using a technique called the \"kernel trick.\" This involves transforming the data into a higher-dimensional space where a linear hyperplane can be used to separate the classes. Common kernels include:\n",
    "   - **Linear Kernel**: For linearly separable data.\n",
    "   - **Polynomial Kernel**: For polynomial decision boundaries.\n",
    "   - **Radial Basis Function (RBF) Kernel**: For more complex boundaries.\n",
    "\n",
    "### Prediction Phase\n",
    "\n",
    "Once the SVM model is trained, it can classify new data points by determining which side of the hyperplane they fall on. If a new point is on one side, it belongs to one class; if it's on the other side, it belongs to the other class.\n",
    "\n",
    "### Summary\n",
    "\n",
    "- **SVM** is a powerful algorithm for classification tasks that works by finding the optimal hyperplane to separate different classes.\n",
    "- It focuses on support vectors, which are the critical data points that define the boundary.\n",
    "- It can handle both linear and non-linear data using different kernels.\n",
    "\n",
    "Overall, SVM is known for its effectiveness in high-dimensional spaces and is widely used in various applications, including image recognition, text classification, and bioinformatics."
   ]
  },
  {
   "cell_type": "markdown",
   "id": "b37a2dea",
   "metadata": {},
   "source": [
    "## 6.3 Model Training"
   ]
  },
  {
   "cell_type": "code",
   "execution_count": 41,
   "id": "fcf814c0",
   "metadata": {},
   "outputs": [],
   "source": [
    "model = SVC()"
   ]
  },
  {
   "cell_type": "code",
   "execution_count": 42,
   "id": "7f8c23f1",
   "metadata": {},
   "outputs": [],
   "source": [
    "clf = Pipeline([\n",
    "    ('preprocessor', preprocessor),\n",
    "    ('classifier', model)\n",
    "])"
   ]
  },
  {
   "cell_type": "code",
   "execution_count": 43,
   "id": "70f9b481",
   "metadata": {},
   "outputs": [
    {
     "data": {
      "text/html": [
       "<style>#sk-container-id-1 {\n",
       "  /* Definition of color scheme common for light and dark mode */\n",
       "  --sklearn-color-text: black;\n",
       "  --sklearn-color-line: gray;\n",
       "  /* Definition of color scheme for unfitted estimators */\n",
       "  --sklearn-color-unfitted-level-0: #fff5e6;\n",
       "  --sklearn-color-unfitted-level-1: #f6e4d2;\n",
       "  --sklearn-color-unfitted-level-2: #ffe0b3;\n",
       "  --sklearn-color-unfitted-level-3: chocolate;\n",
       "  /* Definition of color scheme for fitted estimators */\n",
       "  --sklearn-color-fitted-level-0: #f0f8ff;\n",
       "  --sklearn-color-fitted-level-1: #d4ebff;\n",
       "  --sklearn-color-fitted-level-2: #b3dbfd;\n",
       "  --sklearn-color-fitted-level-3: cornflowerblue;\n",
       "\n",
       "  /* Specific color for light theme */\n",
       "  --sklearn-color-text-on-default-background: var(--sg-text-color, var(--theme-code-foreground, var(--jp-content-font-color1, black)));\n",
       "  --sklearn-color-background: var(--sg-background-color, var(--theme-background, var(--jp-layout-color0, white)));\n",
       "  --sklearn-color-border-box: var(--sg-text-color, var(--theme-code-foreground, var(--jp-content-font-color1, black)));\n",
       "  --sklearn-color-icon: #696969;\n",
       "\n",
       "  @media (prefers-color-scheme: dark) {\n",
       "    /* Redefinition of color scheme for dark theme */\n",
       "    --sklearn-color-text-on-default-background: var(--sg-text-color, var(--theme-code-foreground, var(--jp-content-font-color1, white)));\n",
       "    --sklearn-color-background: var(--sg-background-color, var(--theme-background, var(--jp-layout-color0, #111)));\n",
       "    --sklearn-color-border-box: var(--sg-text-color, var(--theme-code-foreground, var(--jp-content-font-color1, white)));\n",
       "    --sklearn-color-icon: #878787;\n",
       "  }\n",
       "}\n",
       "\n",
       "#sk-container-id-1 {\n",
       "  color: var(--sklearn-color-text);\n",
       "}\n",
       "\n",
       "#sk-container-id-1 pre {\n",
       "  padding: 0;\n",
       "}\n",
       "\n",
       "#sk-container-id-1 input.sk-hidden--visually {\n",
       "  border: 0;\n",
       "  clip: rect(1px 1px 1px 1px);\n",
       "  clip: rect(1px, 1px, 1px, 1px);\n",
       "  height: 1px;\n",
       "  margin: -1px;\n",
       "  overflow: hidden;\n",
       "  padding: 0;\n",
       "  position: absolute;\n",
       "  width: 1px;\n",
       "}\n",
       "\n",
       "#sk-container-id-1 div.sk-dashed-wrapped {\n",
       "  border: 1px dashed var(--sklearn-color-line);\n",
       "  margin: 0 0.4em 0.5em 0.4em;\n",
       "  box-sizing: border-box;\n",
       "  padding-bottom: 0.4em;\n",
       "  background-color: var(--sklearn-color-background);\n",
       "}\n",
       "\n",
       "#sk-container-id-1 div.sk-container {\n",
       "  /* jupyter's `normalize.less` sets `[hidden] { display: none; }`\n",
       "     but bootstrap.min.css set `[hidden] { display: none !important; }`\n",
       "     so we also need the `!important` here to be able to override the\n",
       "     default hidden behavior on the sphinx rendered scikit-learn.org.\n",
       "     See: https://github.com/scikit-learn/scikit-learn/issues/21755 */\n",
       "  display: inline-block !important;\n",
       "  position: relative;\n",
       "}\n",
       "\n",
       "#sk-container-id-1 div.sk-text-repr-fallback {\n",
       "  display: none;\n",
       "}\n",
       "\n",
       "div.sk-parallel-item,\n",
       "div.sk-serial,\n",
       "div.sk-item {\n",
       "  /* draw centered vertical line to link estimators */\n",
       "  background-image: linear-gradient(var(--sklearn-color-text-on-default-background), var(--sklearn-color-text-on-default-background));\n",
       "  background-size: 2px 100%;\n",
       "  background-repeat: no-repeat;\n",
       "  background-position: center center;\n",
       "}\n",
       "\n",
       "/* Parallel-specific style estimator block */\n",
       "\n",
       "#sk-container-id-1 div.sk-parallel-item::after {\n",
       "  content: \"\";\n",
       "  width: 100%;\n",
       "  border-bottom: 2px solid var(--sklearn-color-text-on-default-background);\n",
       "  flex-grow: 1;\n",
       "}\n",
       "\n",
       "#sk-container-id-1 div.sk-parallel {\n",
       "  display: flex;\n",
       "  align-items: stretch;\n",
       "  justify-content: center;\n",
       "  background-color: var(--sklearn-color-background);\n",
       "  position: relative;\n",
       "}\n",
       "\n",
       "#sk-container-id-1 div.sk-parallel-item {\n",
       "  display: flex;\n",
       "  flex-direction: column;\n",
       "}\n",
       "\n",
       "#sk-container-id-1 div.sk-parallel-item:first-child::after {\n",
       "  align-self: flex-end;\n",
       "  width: 50%;\n",
       "}\n",
       "\n",
       "#sk-container-id-1 div.sk-parallel-item:last-child::after {\n",
       "  align-self: flex-start;\n",
       "  width: 50%;\n",
       "}\n",
       "\n",
       "#sk-container-id-1 div.sk-parallel-item:only-child::after {\n",
       "  width: 0;\n",
       "}\n",
       "\n",
       "/* Serial-specific style estimator block */\n",
       "\n",
       "#sk-container-id-1 div.sk-serial {\n",
       "  display: flex;\n",
       "  flex-direction: column;\n",
       "  align-items: center;\n",
       "  background-color: var(--sklearn-color-background);\n",
       "  padding-right: 1em;\n",
       "  padding-left: 1em;\n",
       "}\n",
       "\n",
       "\n",
       "/* Toggleable style: style used for estimator/Pipeline/ColumnTransformer box that is\n",
       "clickable and can be expanded/collapsed.\n",
       "- Pipeline and ColumnTransformer use this feature and define the default style\n",
       "- Estimators will overwrite some part of the style using the `sk-estimator` class\n",
       "*/\n",
       "\n",
       "/* Pipeline and ColumnTransformer style (default) */\n",
       "\n",
       "#sk-container-id-1 div.sk-toggleable {\n",
       "  /* Default theme specific background. It is overwritten whether we have a\n",
       "  specific estimator or a Pipeline/ColumnTransformer */\n",
       "  background-color: var(--sklearn-color-background);\n",
       "}\n",
       "\n",
       "/* Toggleable label */\n",
       "#sk-container-id-1 label.sk-toggleable__label {\n",
       "  cursor: pointer;\n",
       "  display: block;\n",
       "  width: 100%;\n",
       "  margin-bottom: 0;\n",
       "  padding: 0.5em;\n",
       "  box-sizing: border-box;\n",
       "  text-align: center;\n",
       "}\n",
       "\n",
       "#sk-container-id-1 label.sk-toggleable__label-arrow:before {\n",
       "  /* Arrow on the left of the label */\n",
       "  content: \"▸\";\n",
       "  float: left;\n",
       "  margin-right: 0.25em;\n",
       "  color: var(--sklearn-color-icon);\n",
       "}\n",
       "\n",
       "#sk-container-id-1 label.sk-toggleable__label-arrow:hover:before {\n",
       "  color: var(--sklearn-color-text);\n",
       "}\n",
       "\n",
       "/* Toggleable content - dropdown */\n",
       "\n",
       "#sk-container-id-1 div.sk-toggleable__content {\n",
       "  max-height: 0;\n",
       "  max-width: 0;\n",
       "  overflow: hidden;\n",
       "  text-align: left;\n",
       "  /* unfitted */\n",
       "  background-color: var(--sklearn-color-unfitted-level-0);\n",
       "}\n",
       "\n",
       "#sk-container-id-1 div.sk-toggleable__content.fitted {\n",
       "  /* fitted */\n",
       "  background-color: var(--sklearn-color-fitted-level-0);\n",
       "}\n",
       "\n",
       "#sk-container-id-1 div.sk-toggleable__content pre {\n",
       "  margin: 0.2em;\n",
       "  border-radius: 0.25em;\n",
       "  color: var(--sklearn-color-text);\n",
       "  /* unfitted */\n",
       "  background-color: var(--sklearn-color-unfitted-level-0);\n",
       "}\n",
       "\n",
       "#sk-container-id-1 div.sk-toggleable__content.fitted pre {\n",
       "  /* unfitted */\n",
       "  background-color: var(--sklearn-color-fitted-level-0);\n",
       "}\n",
       "\n",
       "#sk-container-id-1 input.sk-toggleable__control:checked~div.sk-toggleable__content {\n",
       "  /* Expand drop-down */\n",
       "  max-height: 200px;\n",
       "  max-width: 100%;\n",
       "  overflow: auto;\n",
       "}\n",
       "\n",
       "#sk-container-id-1 input.sk-toggleable__control:checked~label.sk-toggleable__label-arrow:before {\n",
       "  content: \"▾\";\n",
       "}\n",
       "\n",
       "/* Pipeline/ColumnTransformer-specific style */\n",
       "\n",
       "#sk-container-id-1 div.sk-label input.sk-toggleable__control:checked~label.sk-toggleable__label {\n",
       "  color: var(--sklearn-color-text);\n",
       "  background-color: var(--sklearn-color-unfitted-level-2);\n",
       "}\n",
       "\n",
       "#sk-container-id-1 div.sk-label.fitted input.sk-toggleable__control:checked~label.sk-toggleable__label {\n",
       "  background-color: var(--sklearn-color-fitted-level-2);\n",
       "}\n",
       "\n",
       "/* Estimator-specific style */\n",
       "\n",
       "/* Colorize estimator box */\n",
       "#sk-container-id-1 div.sk-estimator input.sk-toggleable__control:checked~label.sk-toggleable__label {\n",
       "  /* unfitted */\n",
       "  background-color: var(--sklearn-color-unfitted-level-2);\n",
       "}\n",
       "\n",
       "#sk-container-id-1 div.sk-estimator.fitted input.sk-toggleable__control:checked~label.sk-toggleable__label {\n",
       "  /* fitted */\n",
       "  background-color: var(--sklearn-color-fitted-level-2);\n",
       "}\n",
       "\n",
       "#sk-container-id-1 div.sk-label label.sk-toggleable__label,\n",
       "#sk-container-id-1 div.sk-label label {\n",
       "  /* The background is the default theme color */\n",
       "  color: var(--sklearn-color-text-on-default-background);\n",
       "}\n",
       "\n",
       "/* On hover, darken the color of the background */\n",
       "#sk-container-id-1 div.sk-label:hover label.sk-toggleable__label {\n",
       "  color: var(--sklearn-color-text);\n",
       "  background-color: var(--sklearn-color-unfitted-level-2);\n",
       "}\n",
       "\n",
       "/* Label box, darken color on hover, fitted */\n",
       "#sk-container-id-1 div.sk-label.fitted:hover label.sk-toggleable__label.fitted {\n",
       "  color: var(--sklearn-color-text);\n",
       "  background-color: var(--sklearn-color-fitted-level-2);\n",
       "}\n",
       "\n",
       "/* Estimator label */\n",
       "\n",
       "#sk-container-id-1 div.sk-label label {\n",
       "  font-family: monospace;\n",
       "  font-weight: bold;\n",
       "  display: inline-block;\n",
       "  line-height: 1.2em;\n",
       "}\n",
       "\n",
       "#sk-container-id-1 div.sk-label-container {\n",
       "  text-align: center;\n",
       "}\n",
       "\n",
       "/* Estimator-specific */\n",
       "#sk-container-id-1 div.sk-estimator {\n",
       "  font-family: monospace;\n",
       "  border: 1px dotted var(--sklearn-color-border-box);\n",
       "  border-radius: 0.25em;\n",
       "  box-sizing: border-box;\n",
       "  margin-bottom: 0.5em;\n",
       "  /* unfitted */\n",
       "  background-color: var(--sklearn-color-unfitted-level-0);\n",
       "}\n",
       "\n",
       "#sk-container-id-1 div.sk-estimator.fitted {\n",
       "  /* fitted */\n",
       "  background-color: var(--sklearn-color-fitted-level-0);\n",
       "}\n",
       "\n",
       "/* on hover */\n",
       "#sk-container-id-1 div.sk-estimator:hover {\n",
       "  /* unfitted */\n",
       "  background-color: var(--sklearn-color-unfitted-level-2);\n",
       "}\n",
       "\n",
       "#sk-container-id-1 div.sk-estimator.fitted:hover {\n",
       "  /* fitted */\n",
       "  background-color: var(--sklearn-color-fitted-level-2);\n",
       "}\n",
       "\n",
       "/* Specification for estimator info (e.g. \"i\" and \"?\") */\n",
       "\n",
       "/* Common style for \"i\" and \"?\" */\n",
       "\n",
       ".sk-estimator-doc-link,\n",
       "a:link.sk-estimator-doc-link,\n",
       "a:visited.sk-estimator-doc-link {\n",
       "  float: right;\n",
       "  font-size: smaller;\n",
       "  line-height: 1em;\n",
       "  font-family: monospace;\n",
       "  background-color: var(--sklearn-color-background);\n",
       "  border-radius: 1em;\n",
       "  height: 1em;\n",
       "  width: 1em;\n",
       "  text-decoration: none !important;\n",
       "  margin-left: 1ex;\n",
       "  /* unfitted */\n",
       "  border: var(--sklearn-color-unfitted-level-1) 1pt solid;\n",
       "  color: var(--sklearn-color-unfitted-level-1);\n",
       "}\n",
       "\n",
       ".sk-estimator-doc-link.fitted,\n",
       "a:link.sk-estimator-doc-link.fitted,\n",
       "a:visited.sk-estimator-doc-link.fitted {\n",
       "  /* fitted */\n",
       "  border: var(--sklearn-color-fitted-level-1) 1pt solid;\n",
       "  color: var(--sklearn-color-fitted-level-1);\n",
       "}\n",
       "\n",
       "/* On hover */\n",
       "div.sk-estimator:hover .sk-estimator-doc-link:hover,\n",
       ".sk-estimator-doc-link:hover,\n",
       "div.sk-label-container:hover .sk-estimator-doc-link:hover,\n",
       ".sk-estimator-doc-link:hover {\n",
       "  /* unfitted */\n",
       "  background-color: var(--sklearn-color-unfitted-level-3);\n",
       "  color: var(--sklearn-color-background);\n",
       "  text-decoration: none;\n",
       "}\n",
       "\n",
       "div.sk-estimator.fitted:hover .sk-estimator-doc-link.fitted:hover,\n",
       ".sk-estimator-doc-link.fitted:hover,\n",
       "div.sk-label-container:hover .sk-estimator-doc-link.fitted:hover,\n",
       ".sk-estimator-doc-link.fitted:hover {\n",
       "  /* fitted */\n",
       "  background-color: var(--sklearn-color-fitted-level-3);\n",
       "  color: var(--sklearn-color-background);\n",
       "  text-decoration: none;\n",
       "}\n",
       "\n",
       "/* Span, style for the box shown on hovering the info icon */\n",
       ".sk-estimator-doc-link span {\n",
       "  display: none;\n",
       "  z-index: 9999;\n",
       "  position: relative;\n",
       "  font-weight: normal;\n",
       "  right: .2ex;\n",
       "  padding: .5ex;\n",
       "  margin: .5ex;\n",
       "  width: min-content;\n",
       "  min-width: 20ex;\n",
       "  max-width: 50ex;\n",
       "  color: var(--sklearn-color-text);\n",
       "  box-shadow: 2pt 2pt 4pt #999;\n",
       "  /* unfitted */\n",
       "  background: var(--sklearn-color-unfitted-level-0);\n",
       "  border: .5pt solid var(--sklearn-color-unfitted-level-3);\n",
       "}\n",
       "\n",
       ".sk-estimator-doc-link.fitted span {\n",
       "  /* fitted */\n",
       "  background: var(--sklearn-color-fitted-level-0);\n",
       "  border: var(--sklearn-color-fitted-level-3);\n",
       "}\n",
       "\n",
       ".sk-estimator-doc-link:hover span {\n",
       "  display: block;\n",
       "}\n",
       "\n",
       "/* \"?\"-specific style due to the `<a>` HTML tag */\n",
       "\n",
       "#sk-container-id-1 a.estimator_doc_link {\n",
       "  float: right;\n",
       "  font-size: 1rem;\n",
       "  line-height: 1em;\n",
       "  font-family: monospace;\n",
       "  background-color: var(--sklearn-color-background);\n",
       "  border-radius: 1rem;\n",
       "  height: 1rem;\n",
       "  width: 1rem;\n",
       "  text-decoration: none;\n",
       "  /* unfitted */\n",
       "  color: var(--sklearn-color-unfitted-level-1);\n",
       "  border: var(--sklearn-color-unfitted-level-1) 1pt solid;\n",
       "}\n",
       "\n",
       "#sk-container-id-1 a.estimator_doc_link.fitted {\n",
       "  /* fitted */\n",
       "  border: var(--sklearn-color-fitted-level-1) 1pt solid;\n",
       "  color: var(--sklearn-color-fitted-level-1);\n",
       "}\n",
       "\n",
       "/* On hover */\n",
       "#sk-container-id-1 a.estimator_doc_link:hover {\n",
       "  /* unfitted */\n",
       "  background-color: var(--sklearn-color-unfitted-level-3);\n",
       "  color: var(--sklearn-color-background);\n",
       "  text-decoration: none;\n",
       "}\n",
       "\n",
       "#sk-container-id-1 a.estimator_doc_link.fitted:hover {\n",
       "  /* fitted */\n",
       "  background-color: var(--sklearn-color-fitted-level-3);\n",
       "}\n",
       "</style><div id=\"sk-container-id-1\" class=\"sk-top-container\"><div class=\"sk-text-repr-fallback\"><pre>Pipeline(steps=[(&#x27;preprocessor&#x27;,\n",
       "                 ColumnTransformer(transformers=[(&#x27;num_skew&#x27;,\n",
       "                                                  Pipeline(steps=[(&#x27;winsorizer&#x27;,\n",
       "                                                                   Winsorizer(capping_method=&#x27;iqr&#x27;,\n",
       "                                                                              fold=1.5,\n",
       "                                                                              tail=&#x27;both&#x27;,\n",
       "                                                                              variables=[&#x27;Data &#x27;\n",
       "                                                                                         &#x27;Usage &#x27;\n",
       "                                                                                         &#x27;(MB/day)&#x27;])),\n",
       "                                                                  (&#x27;robust&#x27;,\n",
       "                                                                   RobustScaler())]),\n",
       "                                                  []),\n",
       "                                                 (&#x27;num_normal&#x27;,\n",
       "                                                  Pipeline(steps=[(&#x27;winsorizer&#x27;,\n",
       "                                                                   Winsorizer(fold=3,\n",
       "                                                                              tail=&#x27;both&#x27;,\n",
       "                                                                              variables=[&#x27;Screen &#x27;\n",
       "                                                                                         &#x27;On &#x27;\n",
       "                                                                                         &#x27;Time &#x27;\n",
       "                                                                                         &#x27;(hours/day)&#x27;,\n",
       "                                                                                         &#x27;Battery &#x27;\n",
       "                                                                                         &#x27;Drain &#x27;\n",
       "                                                                                         &#x27;(mAh/day)&#x27;,\n",
       "                                                                                         &#x27;Number &#x27;\n",
       "                                                                                         &#x27;of &#x27;\n",
       "                                                                                         &#x27;Apps &#x27;\n",
       "                                                                                         &#x27;Installed&#x27;,\n",
       "                                                                                         &#x27;App &#x27;\n",
       "                                                                                         &#x27;Usage &#x27;\n",
       "                                                                                         &#x27;Time &#x27;\n",
       "                                                                                         &#x27;(min/day)&#x27;])),\n",
       "                                                                  (&#x27;scaler&#x27;,\n",
       "                                                                   StandardScaler())]),\n",
       "                                                  [&#x27;Screen On Time (hours/day)&#x27;,\n",
       "                                                   &#x27;Battery Drain (mAh/day)&#x27;,\n",
       "                                                   &#x27;Number of Apps Installed&#x27;,\n",
       "                                                   &#x27;App Usage Time &#x27;\n",
       "                                                   &#x27;(min/day)&#x27;])])),\n",
       "                (&#x27;classifier&#x27;, SVC())])</pre><b>In a Jupyter environment, please rerun this cell to show the HTML representation or trust the notebook. <br />On GitHub, the HTML representation is unable to render, please try loading this page with nbviewer.org.</b></div><div class=\"sk-container\" hidden><div class=\"sk-item sk-dashed-wrapped\"><div class=\"sk-label-container\"><div class=\"sk-label fitted sk-toggleable\"><input class=\"sk-toggleable__control sk-hidden--visually\" id=\"sk-estimator-id-1\" type=\"checkbox\" ><label for=\"sk-estimator-id-1\" class=\"sk-toggleable__label fitted sk-toggleable__label-arrow fitted\">&nbsp;Pipeline<span class=\"sk-estimator-doc-link fitted\">i<span>Fitted</span></span></label><div class=\"sk-toggleable__content fitted\"><pre>Pipeline(steps=[(&#x27;preprocessor&#x27;,\n",
       "                 ColumnTransformer(transformers=[(&#x27;num_skew&#x27;,\n",
       "                                                  Pipeline(steps=[(&#x27;winsorizer&#x27;,\n",
       "                                                                   Winsorizer(capping_method=&#x27;iqr&#x27;,\n",
       "                                                                              fold=1.5,\n",
       "                                                                              tail=&#x27;both&#x27;,\n",
       "                                                                              variables=[&#x27;Data &#x27;\n",
       "                                                                                         &#x27;Usage &#x27;\n",
       "                                                                                         &#x27;(MB/day)&#x27;])),\n",
       "                                                                  (&#x27;robust&#x27;,\n",
       "                                                                   RobustScaler())]),\n",
       "                                                  []),\n",
       "                                                 (&#x27;num_normal&#x27;,\n",
       "                                                  Pipeline(steps=[(&#x27;winsorizer&#x27;,\n",
       "                                                                   Winsorizer(fold=3,\n",
       "                                                                              tail=&#x27;both&#x27;,\n",
       "                                                                              variables=[&#x27;Screen &#x27;\n",
       "                                                                                         &#x27;On &#x27;\n",
       "                                                                                         &#x27;Time &#x27;\n",
       "                                                                                         &#x27;(hours/day)&#x27;,\n",
       "                                                                                         &#x27;Battery &#x27;\n",
       "                                                                                         &#x27;Drain &#x27;\n",
       "                                                                                         &#x27;(mAh/day)&#x27;,\n",
       "                                                                                         &#x27;Number &#x27;\n",
       "                                                                                         &#x27;of &#x27;\n",
       "                                                                                         &#x27;Apps &#x27;\n",
       "                                                                                         &#x27;Installed&#x27;,\n",
       "                                                                                         &#x27;App &#x27;\n",
       "                                                                                         &#x27;Usage &#x27;\n",
       "                                                                                         &#x27;Time &#x27;\n",
       "                                                                                         &#x27;(min/day)&#x27;])),\n",
       "                                                                  (&#x27;scaler&#x27;,\n",
       "                                                                   StandardScaler())]),\n",
       "                                                  [&#x27;Screen On Time (hours/day)&#x27;,\n",
       "                                                   &#x27;Battery Drain (mAh/day)&#x27;,\n",
       "                                                   &#x27;Number of Apps Installed&#x27;,\n",
       "                                                   &#x27;App Usage Time &#x27;\n",
       "                                                   &#x27;(min/day)&#x27;])])),\n",
       "                (&#x27;classifier&#x27;, SVC())])</pre></div> </div></div><div class=\"sk-serial\"><div class=\"sk-item sk-dashed-wrapped\"><div class=\"sk-label-container\"><div class=\"sk-label fitted sk-toggleable\"><input class=\"sk-toggleable__control sk-hidden--visually\" id=\"sk-estimator-id-2\" type=\"checkbox\" ><label for=\"sk-estimator-id-2\" class=\"sk-toggleable__label fitted sk-toggleable__label-arrow fitted\">&nbsp;preprocessor: ColumnTransformer<a class=\"sk-estimator-doc-link fitted\" rel=\"noreferrer\" target=\"_blank\" href=\"https://scikit-learn.org/1.5/modules/generated/sklearn.compose.ColumnTransformer.html\">?<span>Documentation for preprocessor: ColumnTransformer</span></a></label><div class=\"sk-toggleable__content fitted\"><pre>ColumnTransformer(transformers=[(&#x27;num_skew&#x27;,\n",
       "                                 Pipeline(steps=[(&#x27;winsorizer&#x27;,\n",
       "                                                  Winsorizer(capping_method=&#x27;iqr&#x27;,\n",
       "                                                             fold=1.5,\n",
       "                                                             tail=&#x27;both&#x27;,\n",
       "                                                             variables=[&#x27;Data &#x27;\n",
       "                                                                        &#x27;Usage &#x27;\n",
       "                                                                        &#x27;(MB/day)&#x27;])),\n",
       "                                                 (&#x27;robust&#x27;, RobustScaler())]),\n",
       "                                 []),\n",
       "                                (&#x27;num_normal&#x27;,\n",
       "                                 Pipeline(steps=[(&#x27;winsorizer&#x27;,\n",
       "                                                  Winsorizer(fold=3,\n",
       "                                                             tail=&#x27;both&#x27;,\n",
       "                                                             variables=[&#x27;Screen &#x27;\n",
       "                                                                        &#x27;On &#x27;\n",
       "                                                                        &#x27;Time &#x27;\n",
       "                                                                        &#x27;(hours/day)&#x27;,\n",
       "                                                                        &#x27;Battery &#x27;\n",
       "                                                                        &#x27;Drain &#x27;\n",
       "                                                                        &#x27;(mAh/day)&#x27;,\n",
       "                                                                        &#x27;Number &#x27;\n",
       "                                                                        &#x27;of &#x27;\n",
       "                                                                        &#x27;Apps &#x27;\n",
       "                                                                        &#x27;Installed&#x27;,\n",
       "                                                                        &#x27;App &#x27;\n",
       "                                                                        &#x27;Usage &#x27;\n",
       "                                                                        &#x27;Time &#x27;\n",
       "                                                                        &#x27;(min/day)&#x27;])),\n",
       "                                                 (&#x27;scaler&#x27;, StandardScaler())]),\n",
       "                                 [&#x27;Screen On Time (hours/day)&#x27;,\n",
       "                                  &#x27;Battery Drain (mAh/day)&#x27;,\n",
       "                                  &#x27;Number of Apps Installed&#x27;,\n",
       "                                  &#x27;App Usage Time (min/day)&#x27;])])</pre></div> </div></div><div class=\"sk-parallel\"><div class=\"sk-parallel-item\"><div class=\"sk-item\"><div class=\"sk-label-container\"><div class=\"sk-label fitted sk-toggleable\"><input class=\"sk-toggleable__control sk-hidden--visually\" id=\"sk-estimator-id-3\" type=\"checkbox\" ><label for=\"sk-estimator-id-3\" class=\"sk-toggleable__label fitted sk-toggleable__label-arrow fitted\">num_skew</label><div class=\"sk-toggleable__content fitted\"><pre>[]</pre></div> </div></div><div class=\"sk-serial\"><div class=\"sk-item\"><div class=\"sk-serial\"><div class=\"sk-item\"><div class=\"sk-estimator fitted sk-toggleable\"><input class=\"sk-toggleable__control sk-hidden--visually\" id=\"sk-estimator-id-4\" type=\"checkbox\" ><label for=\"sk-estimator-id-4\" class=\"sk-toggleable__label fitted sk-toggleable__label-arrow fitted\">Winsorizer</label><div class=\"sk-toggleable__content fitted\"><pre>Winsorizer(capping_method=&#x27;iqr&#x27;, fold=1.5, tail=&#x27;both&#x27;,\n",
       "           variables=[&#x27;Data Usage (MB/day)&#x27;])</pre></div> </div></div><div class=\"sk-item\"><div class=\"sk-estimator fitted sk-toggleable\"><input class=\"sk-toggleable__control sk-hidden--visually\" id=\"sk-estimator-id-5\" type=\"checkbox\" ><label for=\"sk-estimator-id-5\" class=\"sk-toggleable__label fitted sk-toggleable__label-arrow fitted\">&nbsp;RobustScaler<a class=\"sk-estimator-doc-link fitted\" rel=\"noreferrer\" target=\"_blank\" href=\"https://scikit-learn.org/1.5/modules/generated/sklearn.preprocessing.RobustScaler.html\">?<span>Documentation for RobustScaler</span></a></label><div class=\"sk-toggleable__content fitted\"><pre>RobustScaler()</pre></div> </div></div></div></div></div></div></div><div class=\"sk-parallel-item\"><div class=\"sk-item\"><div class=\"sk-label-container\"><div class=\"sk-label fitted sk-toggleable\"><input class=\"sk-toggleable__control sk-hidden--visually\" id=\"sk-estimator-id-6\" type=\"checkbox\" ><label for=\"sk-estimator-id-6\" class=\"sk-toggleable__label fitted sk-toggleable__label-arrow fitted\">num_normal</label><div class=\"sk-toggleable__content fitted\"><pre>[&#x27;Screen On Time (hours/day)&#x27;, &#x27;Battery Drain (mAh/day)&#x27;, &#x27;Number of Apps Installed&#x27;, &#x27;App Usage Time (min/day)&#x27;]</pre></div> </div></div><div class=\"sk-serial\"><div class=\"sk-item\"><div class=\"sk-serial\"><div class=\"sk-item\"><div class=\"sk-estimator fitted sk-toggleable\"><input class=\"sk-toggleable__control sk-hidden--visually\" id=\"sk-estimator-id-7\" type=\"checkbox\" ><label for=\"sk-estimator-id-7\" class=\"sk-toggleable__label fitted sk-toggleable__label-arrow fitted\">Winsorizer</label><div class=\"sk-toggleable__content fitted\"><pre>Winsorizer(fold=3, tail=&#x27;both&#x27;,\n",
       "           variables=[&#x27;Screen On Time (hours/day)&#x27;, &#x27;Battery Drain (mAh/day)&#x27;,\n",
       "                      &#x27;Number of Apps Installed&#x27;, &#x27;App Usage Time (min/day)&#x27;])</pre></div> </div></div><div class=\"sk-item\"><div class=\"sk-estimator fitted sk-toggleable\"><input class=\"sk-toggleable__control sk-hidden--visually\" id=\"sk-estimator-id-8\" type=\"checkbox\" ><label for=\"sk-estimator-id-8\" class=\"sk-toggleable__label fitted sk-toggleable__label-arrow fitted\">&nbsp;StandardScaler<a class=\"sk-estimator-doc-link fitted\" rel=\"noreferrer\" target=\"_blank\" href=\"https://scikit-learn.org/1.5/modules/generated/sklearn.preprocessing.StandardScaler.html\">?<span>Documentation for StandardScaler</span></a></label><div class=\"sk-toggleable__content fitted\"><pre>StandardScaler()</pre></div> </div></div></div></div></div></div></div></div></div><div class=\"sk-item\"><div class=\"sk-estimator fitted sk-toggleable\"><input class=\"sk-toggleable__control sk-hidden--visually\" id=\"sk-estimator-id-9\" type=\"checkbox\" ><label for=\"sk-estimator-id-9\" class=\"sk-toggleable__label fitted sk-toggleable__label-arrow fitted\">&nbsp;SVC<a class=\"sk-estimator-doc-link fitted\" rel=\"noreferrer\" target=\"_blank\" href=\"https://scikit-learn.org/1.5/modules/generated/sklearn.svm.SVC.html\">?<span>Documentation for SVC</span></a></label><div class=\"sk-toggleable__content fitted\"><pre>SVC()</pre></div> </div></div></div></div></div></div>"
      ],
      "text/plain": [
       "Pipeline(steps=[('preprocessor',\n",
       "                 ColumnTransformer(transformers=[('num_skew',\n",
       "                                                  Pipeline(steps=[('winsorizer',\n",
       "                                                                   Winsorizer(capping_method='iqr',\n",
       "                                                                              fold=1.5,\n",
       "                                                                              tail='both',\n",
       "                                                                              variables=['Data '\n",
       "                                                                                         'Usage '\n",
       "                                                                                         '(MB/day)'])),\n",
       "                                                                  ('robust',\n",
       "                                                                   RobustScaler())]),\n",
       "                                                  []),\n",
       "                                                 ('num_normal',\n",
       "                                                  Pipeline(steps=[('winsorizer',\n",
       "                                                                   Winsorizer(fold=3,\n",
       "                                                                              tail='both',\n",
       "                                                                              variables=['Screen '\n",
       "                                                                                         'On '\n",
       "                                                                                         'Time '\n",
       "                                                                                         '(hours/day)',\n",
       "                                                                                         'Battery '\n",
       "                                                                                         'Drain '\n",
       "                                                                                         '(mAh/day)',\n",
       "                                                                                         'Number '\n",
       "                                                                                         'of '\n",
       "                                                                                         'Apps '\n",
       "                                                                                         'Installed',\n",
       "                                                                                         'App '\n",
       "                                                                                         'Usage '\n",
       "                                                                                         'Time '\n",
       "                                                                                         '(min/day)'])),\n",
       "                                                                  ('scaler',\n",
       "                                                                   StandardScaler())]),\n",
       "                                                  ['Screen On Time (hours/day)',\n",
       "                                                   'Battery Drain (mAh/day)',\n",
       "                                                   'Number of Apps Installed',\n",
       "                                                   'App Usage Time '\n",
       "                                                   '(min/day)'])])),\n",
       "                ('classifier', SVC())])"
      ]
     },
     "execution_count": 43,
     "metadata": {},
     "output_type": "execute_result"
    }
   ],
   "source": [
    "clf.fit(X_train, y_train)"
   ]
  },
  {
   "cell_type": "markdown",
   "id": "95e0643b",
   "metadata": {},
   "source": [
    "# 9. Model Evaluation"
   ]
  },
  {
   "cell_type": "markdown",
   "id": "6903511b",
   "metadata": {},
   "source": [
    "## 9.1 Model Evaluation\n",
    "do prediction for X_train and X_test"
   ]
  },
  {
   "cell_type": "code",
   "execution_count": 44,
   "id": "74d87ba5",
   "metadata": {},
   "outputs": [],
   "source": [
    "y_pred_train = clf.predict(X_train)\n",
    "y_pred_test = clf.predict(X_test)"
   ]
  },
  {
   "cell_type": "code",
   "execution_count": 45,
   "id": "ae4dfb17",
   "metadata": {},
   "outputs": [
    {
     "name": "stdout",
     "output_type": "stream",
     "text": [
      "Classification Report for Training Set:\n",
      "              precision    recall  f1-score   support\n",
      "\n",
      "           0       1.00      1.00      1.00       109\n",
      "           1       1.00      1.00      1.00       117\n",
      "           2       1.00      1.00      1.00       114\n",
      "           3       1.00      1.00      1.00       111\n",
      "           4       1.00      1.00      1.00       109\n",
      "\n",
      "    accuracy                           1.00       560\n",
      "   macro avg       1.00      1.00      1.00       560\n",
      "weighted avg       1.00      1.00      1.00       560\n",
      "\n"
     ]
    }
   ],
   "source": [
    "print(\"Classification Report for Training Set:\")\n",
    "print(classification_report(y_train, y_pred_train))"
   ]
  },
  {
   "cell_type": "code",
   "execution_count": 46,
   "id": "cfafa31e",
   "metadata": {},
   "outputs": [],
   "source": [
    "# Adjust y_test\n",
    "if np.min(y_test) == 1:  # Assuming classes start from 1\n",
    "    y_test = y_test - 1  # Shift classes to start from 0"
   ]
  },
  {
   "cell_type": "code",
   "execution_count": 47,
   "id": "7afc6cce",
   "metadata": {},
   "outputs": [
    {
     "name": "stdout",
     "output_type": "stream",
     "text": [
      "Classification Report for Testing Set:\n",
      "              precision    recall  f1-score   support\n",
      "\n",
      "           0       1.00      1.00      1.00        27\n",
      "           1       1.00      1.00      1.00        29\n",
      "           2       1.00      1.00      1.00        29\n",
      "           3       1.00      1.00      1.00        28\n",
      "           4       1.00      1.00      1.00        27\n",
      "\n",
      "    accuracy                           1.00       140\n",
      "   macro avg       1.00      1.00      1.00       140\n",
      "weighted avg       1.00      1.00      1.00       140\n",
      "\n"
     ]
    }
   ],
   "source": [
    "print(\"Classification Report for Testing Set:\")\n",
    "print(classification_report(y_test, y_pred_test))"
   ]
  },
  {
   "cell_type": "markdown",
   "id": "dc94cc77",
   "metadata": {},
   "source": [
    "Based from acuration we got 100% accutation."
   ]
  },
  {
   "cell_type": "markdown",
   "id": "692e189f",
   "metadata": {},
   "source": [
    "# 10. Model Saving"
   ]
  },
  {
   "cell_type": "code",
   "execution_count": 48,
   "id": "146995cc",
   "metadata": {},
   "outputs": [],
   "source": [
    "# Save model\n",
    "with open('model.pkl', 'wb') as file:\n",
    "    pickle.dump(clf, file)\n",
    "\n",
    "with open('data_model.txt', 'w') as file:\n",
    "    json.dump(features, file)"
   ]
  }
 ],
 "metadata": {
  "kernelspec": {
   "display_name": "base",
   "language": "python",
   "name": "python3"
  },
  "language_info": {
   "codemirror_mode": {
    "name": "ipython",
    "version": 3
   },
   "file_extension": ".py",
   "mimetype": "text/x-python",
   "name": "python",
   "nbconvert_exporter": "python",
   "pygments_lexer": "ipython3",
   "version": "3.12.4"
  }
 },
 "nbformat": 4,
 "nbformat_minor": 5
}
